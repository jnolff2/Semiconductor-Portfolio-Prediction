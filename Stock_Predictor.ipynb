{
 "cells": [
  {
   "cell_type": "code",
   "execution_count": 1,
   "metadata": {},
   "outputs": [],
   "source": [
    "# Dependencies\n",
    "import pandas as pd\n",
    "import numpy as np\n",
    "import matplotlib as plt\n",
    "# Library that downloads historical market data from Yahoo! Finance in a Pythonic way since Yahoo! Finance\n",
    "# decommissioned their historical market data API\n",
    "import yfinance as yf"
   ]
  },
  {
   "cell_type": "code",
   "execution_count": 2,
   "metadata": {},
   "outputs": [],
   "source": [
    "# Create a function to get the stock data for a list of symbol(s) with specific start and end dates\n",
    "## The function automatically puts the data into a DataFrame, concatenates each ticker dataframe together, and\n",
    "## indexes it by Date then Symbol\n",
    "def get_stock_data(symbol_list, start=None, end=None):\n",
    "    output = pd.DataFrame()\n",
    "    for symbol in symbol_list:\n",
    "        df = yf.download(symbol, start, end, auto_adjust=True)\n",
    "        df[\"Symbol\"] = symbol\n",
    "        df = df.reset_index([\"Date\"])\n",
    "        df = df.set_index([\"Date\", \"Symbol\"])\n",
    "        output = pd.concat([output, df], axis=0)\n",
    "    return output.sort_index()"
   ]
  },
  {
   "cell_type": "code",
   "execution_count": 3,
   "metadata": {},
   "outputs": [
    {
     "name": "stdout",
     "output_type": "stream",
     "text": [
      "[*********************100%***********************]  1 of 1 completed\n",
      "[*********************100%***********************]  1 of 1 completed\n",
      "[*********************100%***********************]  1 of 1 completed\n",
      "[*********************100%***********************]  1 of 1 completed\n",
      "[*********************100%***********************]  1 of 1 completed\n",
      "                          Open         High          Low        Close  \\\n",
      "Date       Symbol                                                       \n",
      "2019-11-14 AAPL     263.750000   264.880005   262.100006   262.640015   \n",
      "           AMZN    1751.430054  1766.589966  1749.560059  1754.599976   \n",
      "           FB       192.929993   194.029999   191.449997   193.149994   \n",
      "           GOOGL   1295.000000  1315.719971  1293.939941  1309.150024   \n",
      "           MSFT     147.020004   148.410004   147.000000   148.059998   \n",
      "2019-11-15 AAPL     263.679993   265.779999   263.010010   265.760010   \n",
      "           AMZN    1760.050049  1761.680054  1732.859985  1739.489990   \n",
      "           FB       194.259995   195.300003   193.380005   195.100006   \n",
      "           GOOGL   1315.050049  1333.540039  1311.890015  1333.540039   \n",
      "           MSFT     148.929993   149.990005   148.270004   149.970001   \n",
      "\n",
      "                     Volume  \n",
      "Date       Symbol            \n",
      "2019-11-14 AAPL    22295700  \n",
      "           AMZN     2264800  \n",
      "           FB       9040500  \n",
      "           GOOGL    1447400  \n",
      "           MSFT    19729800  \n",
      "2019-11-15 AAPL    25051600  \n",
      "           AMZN     3927600  \n",
      "           FB      11524300  \n",
      "           GOOGL    1964300  \n",
      "           MSFT    23485700  \n"
     ]
    }
   ],
   "source": [
    "# Pull the updated stock data from Yahoo! Finance using the yfinance library for our designated time frame\n",
    "stocks = get_stock_data([\"AAPL\", \"AMZN\", \"FB\", \"GOOGL\", \"MSFT\"], start=\"2014-01-01\", end=None)\n",
    "print(stocks.tail(10))"
   ]
  },
  {
   "cell_type": "code",
   "execution_count": 4,
   "metadata": {},
   "outputs": [],
   "source": [
    "# Create a DataFrame to hold all of the indicators that will be used in the model to predict future stock prices\n",
    "indicators = pd.DataFrame(index=stocks.index)\n",
    "\n",
    "# Calculate the ratio of the change in volume from the previous day\n",
    "indicators[\"volume_change_ratio\"] = stocks.groupby(level=\"Symbol\").Volume.diff(1) / stocks.groupby(level=\"Symbol\")\\\n",
    "                                    .shift(1).Volume\n",
    "# Calculate the percentage price change in the stock on a rolling 5 day basis\n",
    "indicators[\"5_day_momentum\"] = stocks.groupby(level=\"Symbol\").Close.pct_change(5)"
   ]
  },
  {
   "cell_type": "code",
   "execution_count": 5,
   "metadata": {},
   "outputs": [],
   "source": [
    "# 12 day, 26 day, 50 day, and 200 day exponential moving averages\n",
    "ema_12_day = lambda x: x.ewm(span=12).mean()\n",
    "ema_26_day = lambda x: x.ewm(span=26).mean()\n",
    "ema_50_day = lambda x: x.ewm(span=50).mean()\n",
    "ema_200_day = lambda x: x.ewm(span=200).mean()\n",
    "\n",
    "# Daily closing price vs. 50 day exponential moving average\n",
    "indicators[\"50_day_ema\"] = stocks.Close / stocks.Close.groupby(level=\"Symbol\").apply(ema_50_day) - 1\n",
    "# Daily closing price vs. 200 day exponential moving average\n",
    "indicators[\"200_day_ema\"] = stocks.Close / stocks.Close.groupby(level=\"Symbol\").apply(ema_200_day) - 1\n",
    "\n",
    "# The moving average convergence divergence (macd) shows the relationship between the 12 and 26 day exponential moving\n",
    "# averages by revealing changes in the strength, direction, momentum, and duration of a trend\n",
    "indicators[\"macd\"] = (stocks.Close / stocks.Close.groupby(level=\"Symbol\").apply(ema_12_day) - 1) - \\\n",
    "                      (stocks.Close / stocks.Close.groupby(level=\"Symbol\").apply(ema_26_day) - 1)"
   ]
  },
  {
   "cell_type": "code",
   "execution_count": 6,
   "metadata": {},
   "outputs": [
    {
     "name": "stdout",
     "output_type": "stream",
     "text": [
      "                   volume_change_ratio  5_day_momentum  50_day_ema  \\\n",
      "Date       Symbol                                                    \n",
      "2019-11-08 AAPL              -0.262839        0.019940    0.116070   \n",
      "           AMZN              -0.199087       -0.003104    0.001449   \n",
      "           FB                -0.201306       -0.014358    0.019513   \n",
      "           GOOGL             -0.326717        0.028886    0.057182   \n",
      "           MSFT              -0.059258        0.015586    0.043470   \n",
      "2019-11-11 AAPL               0.169101        0.021310    0.119424   \n",
      "           AMZN              -0.083502       -0.018292   -0.006276   \n",
      "           FB                -0.197904       -0.026243    0.012428   \n",
      "           GOOGL             -0.432943        0.006723    0.046533   \n",
      "           MSFT              -0.141645        0.010792    0.042721   \n",
      "2019-11-12 AAPL               0.068046        0.021843    0.113231   \n",
      "           AMZN               0.047071       -0.013160   -0.002608   \n",
      "           FB                 1.040910        0.000772    0.036818   \n",
      "           GOOGL              0.674133        0.004468    0.043801   \n",
      "           MSFT               0.297927        0.018067    0.047536   \n",
      "2019-11-13 AAPL               0.175601        0.031193    0.118463   \n",
      "           AMZN               0.467167       -0.023756   -0.015931   \n",
      "           FB                -0.383458        0.008562    0.028784   \n",
      "           GOOGL             -0.288160        0.004005    0.041218   \n",
      "           MSFT              -0.092396        0.022560    0.047223   \n",
      "2019-11-14 AAPL              -0.131909        0.012373    0.105922   \n",
      "           AMZN              -0.242415       -0.018790   -0.014511   \n",
      "           FB                -0.167595        0.014337    0.027419   \n",
      "           GOOGL              0.409485        0.001691    0.049511   \n",
      "           MSFT               0.166119        0.026341    0.050390   \n",
      "2019-11-15 AAPL               0.123607        0.021604    0.113859   \n",
      "           AMZN               0.734193       -0.025976   -0.022116   \n",
      "           FB                 0.274741        0.022322    0.036256   \n",
      "           GOOGL              0.357123        0.018747    0.066176   \n",
      "           MSFT               0.190367        0.027473    0.061279   \n",
      "\n",
      "                   200_day_ema      macd  5_day_vol_change  intraday_move  \n",
      "Date       Symbol                                                          \n",
      "2019-11-08 AAPL       0.253062 -0.036741         -0.536898       0.005605  \n",
      "           AMZN      -0.000113 -0.004143         -0.239070      -0.001124  \n",
      "           FB         0.052104 -0.011264         -0.504380       0.004421  \n",
      "           GOOGL      0.107482 -0.016799          0.054838       0.005747  \n",
      "           MSFT       0.128283 -0.012890         -0.494914       0.013752  \n",
      "2019-11-11 AAPL       0.259689 -0.037396         -0.207712       0.015099  \n",
      "           AMZN      -0.008000 -0.003250         -0.297954      -0.003571  \n",
      "           FB         0.044852 -0.009977         -0.472785      -0.001685  \n",
      "           GOOGL      0.097337 -0.016466         -0.437386      -0.004386  \n",
      "           MSFT       0.127990 -0.013438         -0.150745       0.005298  \n",
      "2019-11-12 AAPL       0.255306 -0.037100          0.093760       0.001568  \n",
      "           AMZN      -0.004400 -0.002830          0.080668       0.001882  \n",
      "           FB         0.070869 -0.011176          0.771827       0.023526  \n",
      "           GOOGL      0.095382 -0.016041          0.147562      -0.001047  \n",
      "           MSFT       0.133874 -0.014311          0.021446       0.005401  \n",
      "2019-11-13 AAPL       0.263972 -0.037541          0.354185       0.012791  \n",
      "           AMZN      -0.018159 -0.001329          0.472805      -0.011436  \n",
      "           FB         0.063146 -0.011170         -0.010234      -0.007755  \n",
      "           GOOGL      0.093484 -0.015458         -0.166003       0.002320  \n",
      "           MSFT       0.134192 -0.014902          0.020717       0.003884  \n",
      "2019-11-14 AAPL       0.252046 -0.036341         -0.060644      -0.004208  \n",
      "           AMZN      -0.017155 -0.000228         -0.145713       0.001810  \n",
      "           FB         0.062261 -0.011073         -0.328991       0.001140  \n",
      "           GOOGL      0.103279 -0.015772         -0.358706       0.010927  \n",
      "           MSFT       0.138381 -0.015650          0.109245       0.007074  \n",
      "2019-11-15 AAPL       0.263564 -0.036516          0.431798       0.007888  \n",
      "           AMZN      -0.025370  0.001307          0.849762      -0.011682  \n",
      "           FB         0.072206 -0.011786          0.070952       0.004324  \n",
      "           GOOGL      0.122451 -0.017501          0.292643       0.014060  \n",
      "           MSFT       0.151313 -0.017231          0.403581       0.006983  \n"
     ]
    }
   ],
   "source": [
    "# Volume percentage change over the previous 5 day rolling period\n",
    "vol_pct_change = lambda x: x.pct_change(5)\n",
    "indicators[\"5_day_vol_change\"] = stocks.groupby(level=\"Symbol\").Volume.apply(vol_pct_change)\n",
    "\n",
    "# Intraday percentage change from opening price to closing price each day\n",
    "indicators[\"intraday_move\"] = (stocks.groupby(level=\"Symbol\").Close.shift(0) - stocks.groupby(level=\"Symbol\").Open\n",
    "                               .shift(0)) / stocks.groupby(level=\"Symbol\").Open.shift(0)\n",
    "\n",
    "print(indicators.tail(30))"
   ]
  },
  {
   "cell_type": "code",
   "execution_count": 7,
   "metadata": {},
   "outputs": [
    {
     "name": "stdout",
     "output_type": "stream",
     "text": [
      "Date        Symbol\n",
      "2019-11-13  AAPL      2.741715\n",
      "            AMZN     -0.535542\n",
      "            FB        0.986115\n",
      "            GOOGL     1.983372\n",
      "            MSFT      1.589573\n",
      "2019-11-14  AAPL      2.612294\n",
      "            AMZN     -0.522986\n",
      "            FB        0.973112\n",
      "            GOOGL     2.168137\n",
      "            MSFT      1.644553\n",
      "2019-11-15  AAPL      2.694668\n",
      "            AMZN     -0.686320\n",
      "            FB        1.139985\n",
      "            GOOGL     2.528498\n",
      "            MSFT      1.801405\n",
      "Name: z_score, dtype: float64\n"
     ]
    }
   ],
   "source": [
    "# Use a rolling 200 day window to calculate the z-scores for each ticker\n",
    "## Use of a specified period prevents the z-score from using the mean and std dev from the entire time period of the data\n",
    "z_score = lambda x: (x - x.rolling(window=200, min_periods=20).mean()) / x.rolling(window=200, min_periods=20).std()\n",
    "indicators[\"z_score\"] = stocks.groupby(level=\"Symbol\").Close.apply(z_score)\n",
    "indicators.z_score.unstack().plot.kde(title='Z-score (accurate)')\n",
    "print(indicators[\"z_score\"].tail(15))"
   ]
  },
  {
   "cell_type": "code",
   "execution_count": 8,
   "metadata": {},
   "outputs": [
    {
     "data": {
      "text/plain": [
       "Index(['volume_change_ratio', '5_day_momentum', '50_day_ema', '200_day_ema',\n",
       "       'macd', '5_day_vol_change', 'intraday_move', 'z_score'],\n",
       "      dtype='object')"
      ]
     },
     "execution_count": 8,
     "metadata": {},
     "output_type": "execute_result"
    }
   ],
   "source": [
    "indicators.columns"
   ]
  },
  {
   "cell_type": "code",
   "execution_count": 37,
   "metadata": {},
   "outputs": [
    {
     "name": "stdout",
     "output_type": "stream",
     "text": [
      "                      day_1     day_5  day_20\n",
      "Date       Symbol                            \n",
      "2019-11-08 AAPL    0.007963  0.021725     NaN\n",
      "           AMZN   -0.007959 -0.025947     NaN\n",
      "           FB     -0.006474  0.022421     NaN\n",
      "           GOOGL  -0.008237  0.018855     NaN\n",
      "           MSFT    0.001042  0.027851     NaN\n",
      "2019-11-11 AAPL   -0.000929       NaN     NaN\n",
      "           AMZN    0.003571       NaN     NaN\n",
      "           FB      0.025588       NaN     NaN\n",
      "           GOOGL  -0.000821       NaN     NaN\n",
      "           MSFT    0.006605       NaN     NaN\n",
      "2019-11-12 AAPL    0.009597       NaN     NaN\n",
      "           AMZN   -0.014025       NaN     NaN\n",
      "           FB     -0.006737       NaN     NaN\n",
      "           GOOGL  -0.000793       NaN     NaN\n",
      "           MSFT    0.001641       NaN     NaN\n",
      "2019-11-13 AAPL   -0.007008       NaN     NaN\n",
      "           AMZN    0.000840       NaN     NaN\n",
      "           FB     -0.000205       NaN     NaN\n",
      "           GOOGL   0.010030       NaN     NaN\n",
      "           MSFT    0.005111       NaN     NaN\n",
      "2019-11-14 AAPL    0.011829       NaN     NaN\n",
      "           AMZN   -0.008627       NaN     NaN\n",
      "           FB      0.010107       NaN     NaN\n",
      "           GOOGL   0.018834       NaN     NaN\n",
      "           MSFT    0.012991       NaN     NaN\n",
      "2019-11-15 AAPL         NaN       NaN     NaN\n",
      "           AMZN         NaN       NaN     NaN\n",
      "           FB           NaN       NaN     NaN\n",
      "           GOOGL        NaN       NaN     NaN\n",
      "           MSFT         NaN       NaN     NaN\n"
     ]
    }
   ],
   "source": [
    "# Create a DataFrame to hold the stock price movement predictions\n",
    "outcomes = pd.DataFrame(index=stocks.index)\n",
    "\n",
    "# Calculate the next day, the next 5 day, and the next 20 day percentage change based on closing price\n",
    "## For the purposes of this model, we will be using these outcomes to predict the directional price change, \n",
    "## not necessarily using the prediction as an indication of magnitude of price change\n",
    "outcomes[\"day_1\"] = (stocks.groupby(level=\"Symbol\").Close.shift(-1) - stocks.groupby(level=\"Symbol\").Close\n",
    "                               .shift(0)) / stocks.groupby(level=\"Symbol\").Open.shift(0)\n",
    "outcomes[\"day_5\"] = (stocks.groupby(level=\"Symbol\").Close.shift(-5) - stocks.groupby(level=\"Symbol\").Close\n",
    "                               .shift(0)) / stocks.groupby(level=\"Symbol\").Open.shift(0)\n",
    "outcomes[\"day_20\"] = (stocks.groupby(level=\"Symbol\").Close.shift(-20) - stocks.groupby(level=\"Symbol\").Close\n",
    "                               .shift(0)) / stocks.groupby(level=\"Symbol\").Open.shift(0)\n",
    "\n",
    "print(outcomes.tail(30))"
   ]
  },
  {
   "cell_type": "code",
   "execution_count": 38,
   "metadata": {},
   "outputs": [
    {
     "name": "stdout",
     "output_type": "stream",
     "text": [
      "(7280, 8)\n",
      "(7280,)\n"
     ]
    }
   ],
   "source": [
    "# Identify the X and y variables for the linear regression\n",
    "X = indicators\n",
    "y = outcomes.day_5\n",
    "\n",
    "# Combine X and y into a DataFrame to drop the NaN and infinity values so both variables have the same number of obs\n",
    "Xy = X.join(y).dropna()\n",
    "Xy = Xy.replace([np.inf, -np.inf], np.nan).dropna()\n",
    "y = Xy[y.name]\n",
    "X = Xy[X.columns]\n",
    "\n",
    "print(X.shape)\n",
    "print(y.shape)"
   ]
  },
  {
   "cell_type": "code",
   "execution_count": 39,
   "metadata": {},
   "outputs": [
    {
     "name": "stdout",
     "output_type": "stream",
     "text": [
      "R-Squared: 0.014347903152893915\n",
      "Coefficients: \n",
      "volume_change_ratio    0.000176\n",
      "5_day_momentum         0.023600\n",
      "50_day_ema            -0.230239\n",
      "200_day_ema           -0.016887\n",
      "macd                  -0.521992\n",
      "5_day_vol_change      -0.001574\n",
      "intraday_move         -0.006217\n",
      "z_score                0.001158\n",
      "dtype: float64\n"
     ]
    }
   ],
   "source": [
    "# Run a linear regression using all of the indicators\n",
    "from sklearn.linear_model import LinearRegression\n",
    "\n",
    "model = LinearRegression()\n",
    "model.fit(X, y)\n",
    "\n",
    "# Compute the R-Squared and the model coefficients for each indicator\n",
    "print(f\"R-Squared: {model.score(X, y)}\")\n",
    "print(f\"Coefficients: \")\n",
    "print(pd.Series(model.coef_, index=X.columns))\n",
    "## 50_day_ema and macd look to be our most meaningful indicators"
   ]
  },
  {
   "cell_type": "code",
   "execution_count": 40,
   "metadata": {},
   "outputs": [],
   "source": [
    "# Create a variable to hold the quarterly retrain dates\n",
    "retrain_dates = X.resample(\"Q\", level=\"Date\").mean().index.values[:-1]\n",
    "\n",
    "# Create the walk forward prediction model using the retrain dates \n",
    "models = pd.Series(index=retrain_dates)\n",
    "for date in retrain_dates:\n",
    "    X_train = X.xs(slice(None, date), level=\"Date\", drop_level=False)\n",
    "    y_train = y.xs(slice(None, date), level=\"Date\", drop_level=False)\n",
    "    model = LinearRegression()\n",
    "    model.fit(X_train, y_train)\n",
    "    models.loc[date] = model\n",
    "\n",
    "start_dates = models.index \n",
    "end_dates = models.index[1:].append(pd.to_datetime([\"2029-12-31\"]))\n",
    "\n",
    "predictions = pd.Series(index=indicators.index)\n",
    "\n",
    "# Get the predictions for the model each time it is retrained\n",
    "for i, model in enumerate(models):\n",
    "    X = indicators.xs(slice(start_dates[i], end_dates[i]), level=\"Date\", drop_level=False)\\\n",
    "              .replace([np.inf, -np.inf], np.nan).dropna()\n",
    "    prediction = pd.Series(model.predict(X), index=X.index)\n",
    "    predictions.loc[X.index] = prediction"
   ]
  },
  {
   "cell_type": "code",
   "execution_count": 41,
   "metadata": {},
   "outputs": [
    {
     "data": {
      "text/plain": [
       "<matplotlib.axes._subplots.AxesSubplot at 0x1a1d1ed630>"
      ]
     },
     "execution_count": 41,
     "metadata": {},
     "output_type": "execute_result"
    },
    {
     "data": {
      "image/png": "[encoded data removed]",
      "text/plain": [
       "<Figure size 720x576 with 1 Axes>"
      ]
     },
     "metadata": {
      "needs_background": "light"
     },
     "output_type": "display_data"
    }
   ],
   "source": [
    "# Create a function to graph a time series of the coefficient values for each of the technical indicators\n",
    "def extract_coefficients(models):\n",
    "    coefficients = pd.DataFrame()\n",
    "    for i, model in enumerate(models):\n",
    "        ## Grab the coefficients from the linear regression model\n",
    "        model_coefficients = pd.Series(model.coef_, index=[\"volume_change_ratio\", \"5_day_momentum\", \"50_day_ema\", \n",
    "                                                           \"200_day_ema\", \"macd\", \"5_day_vol_change\", \n",
    "                                                           \"intraday_move\", \"z_score\"])\n",
    "        model_coefficients.name = models.index[i]\n",
    "        coefficients = pd.concat([coefficients, model_coefficients], axis=1, sort=False)\n",
    "    return coefficients.T\n",
    "\n",
    "# This graph helps to more easily show that the 50 day ema and macd indicators appear to have the strongest\n",
    "# impact on the 5 day predictions made by the model\n",
    "extract_coefficients(models).plot(title=\"Coefficients for Expanding Model\", figsize=(10, 8))"
   ]
  },
  {
   "cell_type": "code",
   "execution_count": 42,
   "metadata": {},
   "outputs": [
    {
     "name": "stdout",
     "output_type": "stream",
     "text": [
      "Explained variance   -0.032917\n",
      "MAE                   0.026057\n",
      "MSE                   0.001287\n",
      "R-Squared            -0.033224\n",
      "dtype: float64\n"
     ]
    }
   ],
   "source": [
    "import sklearn.metrics as metrics\n",
    "\n",
    "# Get the same number of values for the y_pred and y_actual variables by dropping the NaN values\n",
    "common_idx = y.dropna().index.intersection(predictions.dropna().index)\n",
    "y_actual = y[common_idx]\n",
    "y_actual.name = \"y_actual\"\n",
    "y_pred = predictions[common_idx]\n",
    "y_pred.name = \"y_pred\"\n",
    "\n",
    "# Compute the statistical metrics for our model\n",
    "standard_metrics = pd.Series()\n",
    "\n",
    "standard_metrics.loc[\"Explained variance\"] = metrics.explained_variance_score(y_actual, y_pred)\n",
    "standard_metrics.loc[\"MAE\"] = metrics.mean_absolute_error(y_actual, y_pred)\n",
    "standard_metrics.loc[\"MSE\"] = metrics.mean_squared_error(y_actual, y_pred)\n",
    "standard_metrics.loc[\"R-Squared\"] = metrics.r2_score(y_actual, y_pred)\n",
    "\n",
    "print(standard_metrics)"
   ]
  },
  {
   "cell_type": "code",
   "execution_count": 43,
   "metadata": {},
   "outputs": [
    {
     "name": "stdout",
     "output_type": "stream",
     "text": [
      "                     y_pred  y_actual  sign_pred  sign_actual  correct  \\\n",
      "Date       Symbol                                                        \n",
      "2019-11-07 AAPL   -0.001192  0.012406       -1.0          1.0        0   \n",
      "           AMZN    0.008662 -0.018628        1.0         -1.0        0   \n",
      "           FB      0.009899  0.014225        1.0          1.0        1   \n",
      "           GOOGL   0.002877  0.001708        1.0          1.0        1   \n",
      "           MSFT    0.005536  0.026418        1.0          1.0        1   \n",
      "2019-11-08 AAPL   -0.000952  0.021725       -1.0          1.0        0   \n",
      "           AMZN    0.008740 -0.025947        1.0         -1.0        0   \n",
      "           FB      0.008549  0.022421        1.0          1.0        1   \n",
      "           GOOGL   0.003585  0.018855        1.0          1.0        1   \n",
      "           MSFT    0.004060  0.027851        1.0          1.0        1   \n",
      "\n",
      "                   incorrect  prediction    result  \n",
      "Date       Symbol                                   \n",
      "2019-11-07 AAPL            1           1 -0.012406  \n",
      "           AMZN            1           1 -0.018628  \n",
      "           FB              0           1  0.014225  \n",
      "           GOOGL           0           1  0.001708  \n",
      "           MSFT            0           1  0.026418  \n",
      "2019-11-08 AAPL            1           1 -0.021725  \n",
      "           AMZN            1           1 -0.025947  \n",
      "           FB              0           1  0.022421  \n",
      "           GOOGL           0           1  0.018855  \n",
      "           MSFT            0           1  0.027851  \n"
     ]
    }
   ],
   "source": [
    "# Create a function to create a DataFrame with our y_pred and y_actual values as well as add columns to show whether\n",
    "# the y_pred value was accurate in predicting the y_actual value and what the resulting return would be based on the\n",
    "# prediction\n",
    "def create_df(y_pred, y_actual):\n",
    "    y_pred.name = \"y_pred\"\n",
    "    y_actual.name = \"y_actual\"\n",
    "    df = pd.concat([y_pred, y_actual], axis=1, sort=\"index\")\n",
    "    \n",
    "    df[\"sign_pred\"] = df.y_pred.apply(np.sign)\n",
    "    df[\"sign_actual\"] = df.y_actual.apply(np.sign)\n",
    "    df[\"correct\"] = 0\n",
    "    df.loc[df.sign_pred * df.sign_actual > 0, \"correct\"] = 1\n",
    "    df[\"incorrect\"] = 0\n",
    "    df.loc[df.sign_pred * df.sign_actual < 0, \"incorrect\"] = 1\n",
    "    df[\"prediction\"] = df.correct + df.incorrect\n",
    "    df[\"result\"] = df.sign_pred * df.y_actual\n",
    "    return df\n",
    "\n",
    "# A \"1\" in the \"correct\" column signifies a correct prediction of stock price direction for that ticker on that date\n",
    "training_df = create_df(y_pred, y_actual)\n",
    "print(training_df.tail(10))"
   ]
  },
  {
   "cell_type": "code",
   "execution_count": 44,
   "metadata": {},
   "outputs": [
    {
     "name": "stdout",
     "output_type": "stream",
     "text": [
      "accuracy                   56.570944\n",
      "expected_5_day_%_return     0.422209\n",
      "noise                       0.005602\n",
      "prediction_calibration      0.247878\n",
      "%_return_long               0.563546\n",
      "%_return_short             -0.267673\n",
      "dtype: float64\n"
     ]
    }
   ],
   "source": [
    "# Create a function to calculate some custom metrics for our model\n",
    "def analysis_metrics(df):\n",
    "    analysis = pd.Series()\n",
    "    \n",
    "    ## accuracy measures the $ of correct predictions\n",
    "    ## expected_weekly_return_% measures the average weekly return as a % if each stock was equally invested\n",
    "    ## noise estimates how dramatic the predictions vary day to day (extremely small is better)  \n",
    "    ## prediction_calibration is a ratio that measures the average magnitude of the y_pred values vs. the y_actual\n",
    "    ## values and indicates how well the model reflects the size of the actual stock movements (close to 1.0 is ideal)\n",
    "    analysis.loc[\"accuracy\"] = (df.correct.sum()*1 / df.prediction.sum()*1) * 100\n",
    "    analysis.loc[\"expected_5_day_%_return\"] = df.result.mean() * 100 \n",
    "    analysis.loc[\"noise\"] = df.y_pred.diff().abs().mean()\n",
    "    analysis.loc[\"prediction_calibration\"] = df.y_pred.abs().mean() / df.y_actual.abs().mean()\n",
    "    analysis.loc[\"%_return_long\"] = df[df.sign_pred == 1].result.mean() * 100\n",
    "    analysis.loc[\"%_return_short\"] = df[df.sign_pred == -1].result.mean() * 100\n",
    "    return analysis\n",
    "\n",
    "analysis = analysis_metrics(training_df)\n",
    "print(analysis)"
   ]
  },
  {
   "cell_type": "code",
   "execution_count": 45,
   "metadata": {},
   "outputs": [
    {
     "name": "stdout",
     "output_type": "stream",
     "text": [
      "Year                          2014       2015       2016       2017  \\\n",
      "accuracy                 48.484848  55.043685  53.852264  63.397129   \n",
      "expected_5_day_%_return  -0.024741   0.516257   0.327454   0.729681   \n",
      "noise                     0.014327   0.006228   0.003799   0.002596   \n",
      "prediction_calibration    0.419498   0.177078   0.267816   0.240095   \n",
      "%_return_long             0.245845   0.868511   0.391448   0.823009   \n",
      "%_return_short           -0.522683  -0.238321  -0.383856  -0.507968   \n",
      "\n",
      "Year                          2018       2019  \n",
      "accuracy                 56.494024  60.829493  \n",
      "expected_5_day_%_return   0.140595   0.788580  \n",
      "noise                     0.005028   0.003382  \n",
      "prediction_calibration    0.223345   0.202199  \n",
      "%_return_long             0.121071   0.899838  \n",
      "%_return_short            0.288901  -0.058213  \n"
     ]
    }
   ],
   "source": [
    "# Create a function to show the custom analysis metrics from the analysis_metrics function by year\n",
    "def results_by_year(df):\n",
    "    df[\"Year\"] = df.index.get_level_values(\"Date\").year\n",
    "    return df.groupby(\"Year\").apply(analysis_metrics).T\n",
    "\n",
    "yearly_results = results_by_year(training_df)\n",
    "print(yearly_results)"
   ]
  },
  {
   "cell_type": "code",
   "execution_count": 46,
   "metadata": {},
   "outputs": [
    {
     "name": "stdout",
     "output_type": "stream",
     "text": [
      "Month                          Jan        Feb        Mar        Apr  \\\n",
      "accuracy                 58.613861  60.208333  61.818182  62.419355   \n",
      "expected_5_day_%_return   0.551353   0.527567   0.557170   0.826235   \n",
      "noise                     0.005354   0.006101   0.005139   0.006077   \n",
      "prediction_calibration    0.202451   0.257608   0.218269   0.199367   \n",
      "%_return_long             0.904426   0.938867   0.506541   1.011176   \n",
      "%_return_short           -2.223677  -1.139282   0.752964   0.031146   \n",
      "\n",
      "Month                          May       June       July        Aug  \\\n",
      "accuracy                 55.156250  48.902821  64.094488  54.367470   \n",
      "expected_5_day_%_return   0.264956   0.154578   1.125190   0.294170   \n",
      "noise                     0.007821   0.010406   0.004747   0.004802   \n",
      "prediction_calibration    0.343069   0.454462   0.145639   0.265446   \n",
      "%_return_long             0.522854   0.301827   1.411564   0.351184   \n",
      "%_return_short           -0.830053  -0.496810  -0.116568   0.054979   \n",
      "\n",
      "Month                         Sept        Oct        Nov        Dec  \n",
      "accuracy                 54.111842  57.548580  48.888889  53.076923  \n",
      "expected_5_day_%_return   0.282766   0.467961  -0.043348  -0.008610  \n",
      "noise                     0.004614   0.003677   0.004108   0.003975  \n",
      "prediction_calibration    0.285216   0.202373   0.261049   0.244771  \n",
      "%_return_long             0.293220   0.717391  -0.075221  -0.166890  \n",
      "%_return_short            0.231310  -1.603692   0.088693   1.357290  \n"
     ]
    }
   ],
   "source": [
    "# Create a function to show the custom analysis metrics from the analysis_metrics function by month\n",
    "def results_by_month(df):\n",
    "    df[\"Month\"] = df.index.get_level_values(\"Date\").month\n",
    "    return df.groupby(\"Month\").apply(analysis_metrics).T\n",
    "\n",
    "average_monthly_results = results_by_month(training_df)\n",
    "average_monthly_results = average_monthly_results.rename(columns={1: \"Jan\",\n",
    "                                                                  2: \"Feb\",\n",
    "                                                                  3: \"Mar\",\n",
    "                                                                  4: \"Apr\",\n",
    "                                                                  5: \"May\",\n",
    "                                                                  6: \"June\",\n",
    "                                                                  7: \"July\",\n",
    "                                                                  8: \"Aug\",\n",
    "                                                                  9: \"Sept\",\n",
    "                                                                  10: \"Oct\",\n",
    "                                                                  11: \"Nov\",\n",
    "                                                                  12: \"Dec\"})\n",
    "print(average_monthly_results)"
   ]
  },
  {
   "cell_type": "code",
   "execution_count": 47,
   "metadata": {},
   "outputs": [
    {
     "name": "stdout",
     "output_type": "stream",
     "text": [
      "Symbol                        AAPL       AMZN         FB      GOOGL       MSFT\n",
      "accuracy                 53.960396  53.851590  57.496464  57.879859  59.673990\n",
      "expected_5_day_%_return   0.187923   0.347673   0.533254   0.477776   0.564421\n",
      "noise                     0.002554   0.002988   0.002640   0.002127   0.002378\n",
      "prediction_calibration    0.241459   0.236221   0.238229   0.258391   0.272122\n",
      "%_return_long             0.455972   0.712828   0.577803   0.460144   0.630320\n",
      "%_return_short           -0.783533  -0.556691   0.211310   0.635842   0.100503\n"
     ]
    }
   ],
   "source": [
    "# Create a function to show the custom analysis metrics from the analysis_metrics function by symbol\n",
    "def results_by_symbol(df):\n",
    "    #df[\"Sym\"] = df.index.get_level_values(\"Date\").year\n",
    "    return df.groupby(\"Symbol\").apply(analysis_metrics).T\n",
    "\n",
    "symbol_results = results_by_symbol(training_df)\n",
    "print(symbol_results)"
   ]
  },
  {
   "cell_type": "code",
   "execution_count": 49,
   "metadata": {},
   "outputs": [
    {
     "name": "stdout",
     "output_type": "stream",
     "text": [
      "                         model1_train  model1_test\n",
      "accuracy                    57.651715    59.008264\n",
      "expected_5_day_%_return      0.498232     0.686175\n",
      "noise                        0.003293     0.003423\n",
      "prediction_calibration       0.206641     0.206124\n",
      "%_return_long                0.538248     0.744112\n",
      "%_return_short               0.106045     0.213021\n"
     ]
    }
   ],
   "source": [
    "from sklearn.model_selection import train_test_split\n",
    "from sklearn.linear_model import ElasticNetCV, Lasso, Ridge\n",
    "\n",
    "# Use test_size=1235 to make roughly the last 12 months of data as the test data\n",
    "X_train, X_test, y_train, y_test = train_test_split(indicators, outcomes.day_5, test_size=1235, shuffle=False)\n",
    "\n",
    "# Get rid of any NaN or infinity values\n",
    "Xy_train = X_train.join(y_train).dropna()\n",
    "Xy_train = Xy_train.replace([np.inf, -np.inf], np.nan).dropna()\n",
    "X_train_adjust = Xy_train[X_train.columns]\n",
    "y_train_adjust = Xy_train[y_train.name]\n",
    "\n",
    "Xy_test = X_test.join(y_test).dropna()\n",
    "Xy_test = Xy_test.replace([np.inf, -np.inf], np.nan).dropna()\n",
    "X_test_adjust = Xy_test[X_test.columns]\n",
    "y_test_adjust = Xy_test[y_test.name]\n",
    "\n",
    "# Linear Regression model\n",
    "model1 = LinearRegression().fit(X_train_adjust, y_train_adjust)\n",
    "model1_train = pd.Series(model1.predict(X_train_adjust), index=X_train_adjust.index)\n",
    "model1_test = pd.Series(model1.predict(X_test_adjust), index=X_test_adjust.index)\n",
    "\n",
    "# Create a DataFrame of each model that contains the analysis metrics\n",
    "model1_train_df = create_df(model1_train, y_train_adjust)\n",
    "model1_test_df = create_df(model1_test, y_test_adjust)\n",
    "\n",
    "results1 = analysis_metrics(model1_train_df)\n",
    "results1.name = \"model1_train\"\n",
    "results2 = analysis_metrics(model1_test_df)\n",
    "results2.name = \"model1_test\"\n",
    "\n",
    "print(pd.concat([results1, results2], axis=1))"
   ]
  },
  {
   "cell_type": "code",
   "execution_count": 50,
   "metadata": {},
   "outputs": [],
   "source": [
    "# Create a function to output the models and predictions from our walk forward model\n",
    "def create_prediction_model(X, y, algo=LinearRegression()):\n",
    "    return models, predictions\n",
    "\n",
    "linear_models, linear_predictions = create_prediction_model(X, y, algo=LinearRegression())"
   ]
  },
  {
   "cell_type": "code",
   "execution_count": 51,
   "metadata": {},
   "outputs": [
    {
     "name": "stdout",
     "output_type": "stream",
     "text": [
      "Models:\n",
      "2018-09-30    LinearRegression(copy_X=True, fit_intercept=Tr...\n",
      "2018-12-31    LinearRegression(copy_X=True, fit_intercept=Tr...\n",
      "2019-03-31    LinearRegression(copy_X=True, fit_intercept=Tr...\n",
      "2019-06-30    LinearRegression(copy_X=True, fit_intercept=Tr...\n",
      "2019-09-30    LinearRegression(copy_X=True, fit_intercept=Tr...\n",
      "dtype: object\n"
     ]
    }
   ],
   "source": [
    "# The model retrains on a quarterly basis\n",
    "print(\"Models:\")\n",
    "print(linear_models.tail())"
   ]
  },
  {
   "cell_type": "code",
   "execution_count": 52,
   "metadata": {},
   "outputs": [
    {
     "name": "stdout",
     "output_type": "stream",
     "text": [
      "Predictions:\n",
      "Date        Symbol\n",
      "2019-11-08  AAPL      -0.0009517\n",
      "            AMZN       0.0087401\n",
      "            FB         0.0085488\n",
      "            GOOGL      0.0035852\n",
      "            MSFT       0.0040603\n",
      "2019-11-11  AAPL      -0.0018772\n",
      "            AMZN       0.0097855\n",
      "            FB         0.0092065\n",
      "            GOOGL      0.0060625\n",
      "            MSFT       0.0038918\n",
      "2019-11-12  AAPL      -0.0009924\n",
      "            AMZN       0.0082471\n",
      "            FB         0.0030947\n",
      "            GOOGL      0.0057341\n",
      "            MSFT       0.0032301\n",
      "2019-11-13  AAPL      -0.0022668\n",
      "            AMZN       0.0097917\n",
      "            FB         0.0062057\n",
      "            GOOGL      0.0062438\n",
      "            MSFT       0.0036454\n",
      "2019-11-14  AAPL       0.0002674\n",
      "            AMZN       0.0097404\n",
      "            FB         0.0071235\n",
      "            GOOGL      0.0048874\n",
      "            MSFT       0.0032928\n",
      "2019-11-15  AAPL      -0.0021305\n",
      "            AMZN       0.0092213\n",
      "            FB         0.0051232\n",
      "            GOOGL      0.0013739\n",
      "            MSFT       0.0011191\n",
      "dtype: object\n"
     ]
    }
   ],
   "source": [
    "# The predictions are forecasting the directional price movement on a forward rolling 5 day period\n",
    "# Ex: The prediction on \"2019-11-08\" is predicting the directional price movement from the closing price on \n",
    "# \"2019-11-08\" to the closing price on \"2019-11-15\"\n",
    "print(\"Predictions:\")\n",
    "print(linear_predictions.apply(lambda x: '%.7f' % x).dropna().tail(30))"
   ]
  },
  {
   "cell_type": "code",
   "execution_count": 53,
   "metadata": {},
   "outputs": [
    {
     "data": {
      "text/plain": [
       "Explained variance         -0.032917\n",
       "MAE                         0.026057\n",
       "R-Squared                  -0.033224\n",
       "accuracy                   56.570944\n",
       "expected_5_day_%_return     0.422209\n",
       "noise                       0.005602\n",
       "prediction_calibration      0.247878\n",
       "%_return_long               0.563546\n",
       "%_return_short             -0.267673\n",
       "dtype: float64"
      ]
     },
     "execution_count": 53,
     "metadata": {},
     "output_type": "execute_result"
    }
   ],
   "source": [
    "# Combine our \"create_df\" function and \"analysis_metrics\" function into one function\n",
    "def prediction_metrics(y_pred, y_actual):\n",
    "\n",
    "    def create_df(y_pred, y_actual):\n",
    "        y_pred.name = \"y_pred\"\n",
    "        y_actual.name = \"y_actual\"\n",
    "        df = pd.concat([y_pred, y_actual], axis=1, sort=\"index\").dropna()\n",
    "\n",
    "        df[\"sign_pred\"] = df.y_pred.apply(np.sign)\n",
    "        df[\"sign_actual\"] = df.y_actual.apply(np.sign)\n",
    "        df[\"correct\"] = 0\n",
    "        df.loc[df.sign_pred * df.sign_actual > 0, \"correct\"] = 1\n",
    "        df[\"incorrect\"] = 0\n",
    "        df.loc[df.sign_pred * df.sign_actual < 0, \"incorrect\"] = 1\n",
    "        df[\"prediction\"] = df.correct + df.incorrect\n",
    "        df[\"result\"] = df.sign_pred * df.y_actual\n",
    "        return df\n",
    "    \n",
    "    df = create_df(y_pred, y_actual)\n",
    "    \n",
    "    analysis = pd.Series()\n",
    "\n",
    "    analysis.loc[\"Explained variance\"] = metrics.explained_variance_score(df.y_actual, df.y_pred)\n",
    "    analysis.loc[\"MAE\"] = metrics.mean_absolute_error(df.y_actual, df.y_pred)\n",
    "    analysis.loc[\"R-Squared\"] = metrics.r2_score(df.y_actual, df.y_pred)\n",
    "    analysis.loc[\"accuracy\"] = (df.correct.sum()*1 / df.prediction.sum()*1) * 100\n",
    "    analysis.loc[\"expected_5_day_%_return\"] = df.result.mean() * 100 \n",
    "    analysis.loc[\"noise\"] = df.y_pred.diff().abs().mean()\n",
    "    analysis.loc[\"prediction_calibration\"] = df.y_pred.abs().mean() / df.y_actual.abs().mean()\n",
    "    analysis.loc[\"%_return_long\"] = df[df.sign_pred == 1].result.mean() * 100\n",
    "    analysis.loc[\"%_return_short\"] = df[df.sign_pred == -1].result.mean() * 100\n",
    "\n",
    "    return analysis\n",
    "\n",
    "prediction_metrics(y_pred=linear_predictions, y_actual=y)"
   ]
  },
  {
   "cell_type": "code",
   "execution_count": 54,
   "metadata": {},
   "outputs": [
    {
     "name": "stdout",
     "output_type": "stream",
     "text": [
      "Date                     2019-03-31  2019-06-30  2019-09-30  2019-12-31\n",
      "Explained variance         0.067920   -0.006295    0.030463   -0.028655\n",
      "MAE                        0.024535    0.028301    0.022138    0.018465\n",
      "R-Squared                 -0.062310   -0.008488   -0.009767   -0.291880\n",
      "accuracy                  70.491803   57.142857   52.187500   67.586207\n",
      "expected_5_day_%_return    1.705214    0.380418    0.187095    1.074602\n",
      "noise                      0.003719    0.003369    0.002960    0.003662\n",
      "prediction_calibration     0.187760    0.153739    0.259444    0.252962\n",
      "%_return_long              1.926827    0.545864    0.090429    1.442335\n",
      "%_return_short             0.317490   -0.368447    2.668191   -2.112414\n"
     ]
    }
   ],
   "source": [
    "# Show a breakdown of the analysis metrics for the last 4 quarters of predictions\n",
    "def metrics_by_quarter(y_pred, y_actual):\n",
    "    df = pd.concat([y_pred, y_actual], axis=1).dropna().reset_index().set_index(\"Date\")\n",
    "    quarterly_analysis = df.resample(\"Q\").apply(lambda df: prediction_metrics(df[y_pred.name], df[y_actual.name]))\n",
    "    return quarterly_analysis\n",
    "\n",
    "quarterly_metrics = metrics_by_quarter(y_pred=linear_predictions, y_actual=y)\n",
    "print(quarterly_metrics.tail(4).T)"
   ]
  },
  {
   "cell_type": "code",
   "execution_count": 55,
   "metadata": {},
   "outputs": [
    {
     "data": {
      "text/plain": [
       "<matplotlib.axes._subplots.AxesSubplot at 0x1a1da2cac8>"
      ]
     },
     "execution_count": 55,
     "metadata": {},
     "output_type": "execute_result"
    },
    {
     "data": {
      "image/png": "[encoded data removed]",
      "text/plain": [
       "<Figure size 432x288 with 1 Axes>"
      ]
     },
     "metadata": {
      "needs_background": "light"
     },
     "output_type": "display_data"
    }
   ],
   "source": [
    "# Chart the accuracy over time on a quarterly basis\n",
    "quarterly_metrics[\"accuracy\"].plot(title=\"Accuracy % by Quarter\")"
   ]
  },
  {
   "cell_type": "code",
   "execution_count": 56,
   "metadata": {},
   "outputs": [
    {
     "data": {
      "text/plain": [
       "<matplotlib.axes._subplots.AxesSubplot at 0x1a1da2ce48>"
      ]
     },
     "execution_count": 56,
     "metadata": {},
     "output_type": "execute_result"
    },
    {
     "data": {
      "image/png": "[encoded data removed]",
      "text/plain": [
       "<Figure size 432x288 with 1 Axes>"
      ]
     },
     "metadata": {
      "needs_background": "light"
     },
     "output_type": "display_data"
    }
   ],
   "source": [
    "# Chart the expected_weekly_return_% over time on a quarterly basis\n",
    "quarterly_metrics[\"expected_5_day_%_return\"].plot(title=\"Average Expected 5 Day % Return by Quarter\")"
   ]
  }
 ],
 "metadata": {
  "kernelspec": {
   "display_name": "Python 3",
   "language": "python",
   "name": "python3"
  },
  "language_info": {
   "codemirror_mode": {
    "name": "ipython",
    "version": 3
   },
   "file_extension": ".py",
   "mimetype": "text/x-python",
   "name": "python",
   "nbconvert_exporter": "python",
   "pygments_lexer": "ipython3",
   "version": "3.6.8"
  }
 },
 "nbformat": 4,
 "nbformat_minor": 2
}
