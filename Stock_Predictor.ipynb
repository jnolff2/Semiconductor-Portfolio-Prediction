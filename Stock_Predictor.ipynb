{
 "cells": [
  {
   "cell_type": "code",
   "execution_count": 1,
   "metadata": {},
   "outputs": [],
   "source": [
    "# Dependencies\n",
    "import pandas as pd\n",
    "import numpy as np\n",
    "import matplotlib as plt\n",
    "# Library that downloads historical market data from Yahoo! Finance in a Pythonic way since Yahoo! Finance\n",
    "# decommissioned their historical market data API\n",
    "import yfinance as yf"
   ]
  },
  {
   "cell_type": "code",
   "execution_count": 2,
   "metadata": {},
   "outputs": [],
   "source": [
    "# Create a function to get the stock data for a list of symbol(s) with specific start and end dates\n",
    "## The function automatically puts the data into a DataFrame, concatenates each ticker dataframe together, and\n",
    "## indexes it by Date then Symbol\n",
    "def get_stock_data(symbol_list, start=None, end=None):\n",
    "    output = pd.DataFrame()\n",
    "    for symbol in symbol_list:\n",
    "        df = yf.download(symbol, start, end, auto_adjust=True)\n",
    "        df[\"Symbol\"] = symbol\n",
    "        df = df.reset_index([\"Date\"])\n",
    "        df = df.set_index([\"Date\", \"Symbol\"])\n",
    "        output = pd.concat([output, df], axis=0)\n",
    "    return output.sort_index()"
   ]
  },
  {
   "cell_type": "code",
   "execution_count": 3,
   "metadata": {},
   "outputs": [
    {
     "name": "stdout",
     "output_type": "stream",
     "text": [
      "[*********************100%***********************]  1 of 1 completed\n",
      "[*********************100%***********************]  1 of 1 completed\n",
      "[*********************100%***********************]  1 of 1 completed\n",
      "[*********************100%***********************]  1 of 1 completed\n",
      "[*********************100%***********************]  1 of 1 completed\n",
      "                          Open         High          Low        Close  \\\n",
      "Date       Symbol                                                       \n",
      "2019-12-05 AAPL     263.790009   265.890015   262.730011   265.579987   \n",
      "           AMZN    1763.500000  1763.500000  1740.000000  1740.479980   \n",
      "           FB       199.860001   201.289993   198.210007   199.360001   \n",
      "           GOOGL   1327.000000  1327.979980  1314.319946  1326.959961   \n",
      "           MSFT     150.050003   150.320007   149.479996   149.929993   \n",
      "2019-12-06 AAPL     267.480011   271.000000   267.299988   270.709991   \n",
      "           AMZN    1751.199951  1754.400024  1740.130005  1751.599976   \n",
      "           FB       200.500000   201.570007   200.059998   201.050003   \n",
      "           GOOGL   1332.750000  1342.469971  1331.229980  1339.390015   \n",
      "           MSFT     150.990005   151.869995   150.270004   151.750000   \n",
      "\n",
      "                     Volume  \n",
      "Date       Symbol            \n",
      "2019-12-05 AAPL    18606100  \n",
      "           AMZN     2823800  \n",
      "           FB       9740400  \n",
      "           GOOGL    1220400  \n",
      "           MSFT    17869100  \n",
      "2019-12-06 AAPL    26518900  \n",
      "           AMZN     3117400  \n",
      "           FB      12270600  \n",
      "           GOOGL    1648400  \n",
      "           MSFT    16403500  \n"
     ]
    }
   ],
   "source": [
    "# Pull the updated stock data from Yahoo! Finance using the yfinance library for our designated time frame\n",
    "stocks = get_stock_data([\"AAPL\", \"AMZN\", \"FB\", \"GOOGL\", \"MSFT\"], start=\"2014-01-01\", end=None)\n",
    "print(stocks.tail(10))"
   ]
  },
  {
   "cell_type": "code",
   "execution_count": 4,
   "metadata": {},
   "outputs": [],
   "source": [
    "# Create a DataFrame to hold all of the indicators that will be used in the model to predict future stock prices\n",
    "indicators = pd.DataFrame(index=stocks.index)\n",
    "\n",
    "# Calculate the ratio of the change in volume from the previous day\n",
    "indicators[\"volume_change_ratio\"] = stocks.groupby(level=\"Symbol\").Volume.diff(1) / stocks.groupby(level=\"Symbol\")\\\n",
    "                                    .shift(1).Volume\n",
    "# Calculate the percentage price change in the stock on a rolling 5 day basis\n",
    "indicators[\"5_day_momentum\"] = stocks.groupby(level=\"Symbol\").Close.pct_change(5)"
   ]
  },
  {
   "cell_type": "code",
   "execution_count": 5,
   "metadata": {},
   "outputs": [],
   "source": [
    "# 12 day, 26 day, 50 day, and 200 day exponential moving averages\n",
    "ema_12_day = lambda x: x.ewm(span=12).mean()\n",
    "ema_26_day = lambda x: x.ewm(span=26).mean()\n",
    "ema_50_day = lambda x: x.ewm(span=50).mean()\n",
    "ema_200_day = lambda x: x.ewm(span=200).mean()\n",
    "\n",
    "# Daily closing price vs. 50 day exponential moving average\n",
    "indicators[\"50_day_ema\"] = stocks.Close / stocks.Close.groupby(level=\"Symbol\").apply(ema_50_day) - 1\n",
    "# Daily closing price vs. 200 day exponential moving average\n",
    "indicators[\"200_day_ema\"] = stocks.Close / stocks.Close.groupby(level=\"Symbol\").apply(ema_200_day) - 1\n",
    "\n",
    "# The moving average convergence divergence (macd) shows the relationship between the 12 and 26 day exponential moving\n",
    "# averages by revealing changes in the strength, direction, momentum, and duration of a trend\n",
    "indicators[\"macd\"] = (stocks.Close / stocks.Close.groupby(level=\"Symbol\").apply(ema_12_day) - 1) - \\\n",
    "                      (stocks.Close / stocks.Close.groupby(level=\"Symbol\").apply(ema_26_day) - 1)"
   ]
  },
  {
   "cell_type": "code",
   "execution_count": 6,
   "metadata": {},
   "outputs": [
    {
     "name": "stdout",
     "output_type": "stream",
     "text": [
      "                   volume_change_ratio  5_day_momentum  50_day_ema  \\\n",
      "Date       Symbol                                                    \n",
      "2019-11-29 AAPL              -0.285396        0.019999    0.083590   \n",
      "           AMZN              -0.364291        0.038099    0.013623   \n",
      "           FB                -0.373051        0.018744    0.052195   \n",
      "           GOOGL             -0.319332        0.003038    0.028684   \n",
      "           MSFT              -0.211210        0.012711    0.052632   \n",
      "2019-12-02 AAPL               1.026857        0.009092    0.068085   \n",
      "           AMZN               1.040969        0.020553    0.002705   \n",
      "           FB                 0.440590        0.004426    0.040355   \n",
      "           GOOGL              1.072957       -0.003718    0.016006   \n",
      "           MSFT               1.289197       -0.000267    0.038282   \n",
      "2019-12-03 AAPL               0.211068       -0.025979    0.047027   \n",
      "           AMZN              -0.138756       -0.002187   -0.003696   \n",
      "           FB                 0.007989       -0.004855    0.034320   \n",
      "           GOOGL             -0.047781       -0.008348    0.019816   \n",
      "           MSFT              -0.122268       -0.012696    0.035130   \n",
      "2019-12-04 AAPL              -0.412904       -0.009649    0.053943   \n",
      "           AMZN              -0.210240       -0.020173   -0.008568   \n",
      "           FB                -0.270713       -0.001307    0.032381   \n",
      "           GOOGL              0.405065        0.004524    0.037296   \n",
      "           MSFT              -0.269729       -0.014339    0.037292   \n",
      "2019-12-05 AAPL               0.107809       -0.008438    0.066503   \n",
      "           AMZN               0.057563       -0.042909   -0.019180   \n",
      "           FB                 0.151851       -0.013069    0.034308   \n",
      "           GOOGL             -0.312567        0.011302    0.041822   \n",
      "           MSFT               0.016751       -0.015691    0.036308   \n",
      "2019-12-06 AAPL               0.425280        0.012947    0.083403   \n",
      "           AMZN               0.103973       -0.027321   -0.012414   \n",
      "           FB                 0.259763       -0.002926    0.041317   \n",
      "           GOOGL              0.350705        0.027069    0.049458   \n",
      "           MSFT              -0.082019        0.002444    0.046881   \n",
      "\n",
      "                   200_day_ema      macd  5_day_vol_change  intraday_move  \n",
      "Date       Symbol                                                          \n",
      "2019-11-29 AAPL       0.242772 -0.025449         -0.615985       0.002438  \n",
      "           AMZN       0.009719 -0.002623         -0.277705      -0.009341  \n",
      "           FB         0.099135 -0.017711         -0.341753       0.000198  \n",
      "           GOOGL      0.088288 -0.010392         -0.498786      -0.001921  \n",
      "           MSFT       0.150230 -0.019382         -0.355231      -0.004734  \n",
      "2019-12-02 AAPL       0.225618 -0.023320          0.446413      -0.011636  \n",
      "           AMZN      -0.001037 -0.002614          0.583478      -0.012636  \n",
      "           FB         0.087601 -0.016838          0.154983      -0.012022  \n",
      "           GOOGL      0.074770 -0.008567         -0.044571      -0.010518  \n",
      "           MSFT       0.134786 -0.017601          0.724232      -0.014887  \n",
      "2019-12-03 AAPL       0.201329 -0.019883          0.361936       0.004413  \n",
      "           AMZN      -0.007489 -0.002065         -0.030205       0.005659  \n",
      "           FB         0.081917 -0.015679         -0.240763       0.006174  \n",
      "           GOOGL      0.078819 -0.007517          0.071217       0.012576  \n",
      "           MSFT       0.131468 -0.016038          0.073374       0.012340  \n",
      "2019-12-04 AAPL       0.209382 -0.018103         -0.361438       0.002566  \n",
      "           AMZN      -0.012562 -0.001203         -0.160663      -0.007508  \n",
      "           FB         0.080445 -0.014599         -0.279426      -0.006450  \n",
      "           GOOGL      0.097901 -0.008183          0.620539       0.009831  \n",
      "           MSFT       0.134030 -0.014985         -0.286165      -0.001931  \n",
      "2019-12-05 AAPL       0.224358 -0.017741          0.140856       0.006786  \n",
      "           AMZN      -0.023664  0.000381         -0.066698      -0.013054  \n",
      "           FB         0.083074 -0.013893         -0.235243      -0.002502  \n",
      "           GOOGL      0.103429 -0.009036          0.297746      -0.000030  \n",
      "           MSFT       0.133118 -0.013994          0.176806      -0.000800  \n",
      "2019-12-06 AAPL       0.244936 -0.018909          1.275441       0.012076  \n",
      "           AMZN      -0.017256  0.001127          0.620776       0.000228  \n",
      "           FB         0.091253 -0.013923          0.536668       0.002743  \n",
      "           GOOGL      0.112506 -0.010401          1.575223       0.004982  \n",
      "           MSFT       0.145199 -0.014165          0.369549       0.005033  \n"
     ]
    }
   ],
   "source": [
    "# Volume percentage change over the previous 5 day rolling period\n",
    "vol_pct_change = lambda x: x.pct_change(5)\n",
    "indicators[\"5_day_vol_change\"] = stocks.groupby(level=\"Symbol\").Volume.apply(vol_pct_change)\n",
    "\n",
    "# Intraday percentage change from opening price to closing price each day\n",
    "indicators[\"intraday_move\"] = (stocks.groupby(level=\"Symbol\").Close.shift(0) - stocks.groupby(level=\"Symbol\").Open\n",
    "                               .shift(0)) / stocks.groupby(level=\"Symbol\").Open.shift(0)\n",
    "\n",
    "print(indicators.tail(30))"
   ]
  },
  {
   "cell_type": "code",
   "execution_count": 7,
   "metadata": {},
   "outputs": [
    {
     "name": "stdout",
     "output_type": "stream",
     "text": [
      "Date        Symbol\n",
      "2019-12-04  AAPL      2.052805\n",
      "            AMZN     -0.628620\n",
      "            FB        1.311989\n",
      "            GOOGL     1.950074\n",
      "            MSFT      1.692860\n",
      "2019-12-05  AAPL      2.169875\n",
      "            AMZN     -0.876104\n",
      "            FB        1.365806\n",
      "            GOOGL     2.045139\n",
      "            MSFT      1.689180\n",
      "2019-12-06  AAPL      2.328807\n",
      "            AMZN     -0.762237\n",
      "            FB        1.514841\n",
      "            GOOGL     2.200227\n",
      "            MSFT      1.844154\n",
      "Name: z_score, dtype: float64\n"
     ]
    }
   ],
   "source": [
    "# Use a rolling 200 day window to calculate the z-scores for each ticker\n",
    "## Use of a specified period prevents the z-score from using the mean and std dev from the entire time period of the data\n",
    "z_score = lambda x: (x - x.rolling(window=200, min_periods=20).mean()) / x.rolling(window=200, min_periods=20).std()\n",
    "indicators[\"z_score\"] = stocks.groupby(level=\"Symbol\").Close.apply(z_score)\n",
    "indicators.z_score.unstack().plot.kde(title='Z-score (accurate)')\n",
    "print(indicators[\"z_score\"].tail(15))"
   ]
  },
  {
   "cell_type": "code",
   "execution_count": 8,
   "metadata": {},
   "outputs": [
    {
     "data": {
      "text/plain": [
       "Index(['volume_change_ratio', '5_day_momentum', '50_day_ema', '200_day_ema',\n",
       "       'macd', '5_day_vol_change', 'intraday_move', 'z_score'],\n",
       "      dtype='object')"
      ]
     },
     "execution_count": 8,
     "metadata": {},
     "output_type": "execute_result"
    }
   ],
   "source": [
    "indicators.columns"
   ]
  },
  {
   "cell_type": "code",
   "execution_count": 9,
   "metadata": {},
   "outputs": [
    {
     "name": "stdout",
     "output_type": "stream",
     "text": [
      "                      day_1     day_5  day_20\n",
      "Date       Symbol                            \n",
      "2019-11-29 AAPL   -0.011590  0.012978     NaN\n",
      "           AMZN   -0.010562 -0.027066     NaN\n",
      "           FB     -0.009623 -0.002927     NaN\n",
      "           GOOGL  -0.011656  0.027017     NaN\n",
      "           MSFT   -0.012032  0.002433     NaN\n",
      "2019-12-02 AAPL   -0.017623       NaN     NaN\n",
      "           AMZN   -0.006451       NaN     NaN\n",
      "           FB     -0.004354       NaN     NaN\n",
      "           GOOGL   0.004514       NaN     NaN\n",
      "           MSFT   -0.001581       NaN     NaN\n",
      "2019-12-03 AAPL    0.008865       NaN     NaN\n",
      "           AMZN   -0.005267       NaN     NaN\n",
      "           FB     -0.000557       NaN     NaN\n",
      "           GOOGL   0.018926       NaN     NaN\n",
      "           MSFT    0.003661       NaN     NaN\n",
      "2019-12-04 AAPL    0.014709       NaN     NaN\n",
      "           AMZN   -0.011392       NaN     NaN\n",
      "           FB      0.003250       NaN     NaN\n",
      "           GOOGL   0.006140       NaN     NaN\n",
      "           MSFT    0.000533       NaN     NaN\n",
      "2019-12-05 AAPL    0.019447       NaN     NaN\n",
      "           AMZN    0.006306       NaN     NaN\n",
      "           FB      0.008456       NaN     NaN\n",
      "           GOOGL   0.009367       NaN     NaN\n",
      "           MSFT    0.012129       NaN     NaN\n",
      "2019-12-06 AAPL         NaN       NaN     NaN\n",
      "           AMZN         NaN       NaN     NaN\n",
      "           FB           NaN       NaN     NaN\n",
      "           GOOGL        NaN       NaN     NaN\n",
      "           MSFT         NaN       NaN     NaN\n"
     ]
    }
   ],
   "source": [
    "# Create a DataFrame to hold the stock price movement predictions\n",
    "outcomes = pd.DataFrame(index=stocks.index)\n",
    "\n",
    "# Calculate the next day, the next 5 day, and the next 20 day percentage change based on closing price\n",
    "## For the purposes of this model, we will be using these outcomes to predict the directional price change, \n",
    "## not necessarily using the prediction as an indication of magnitude of price change\n",
    "outcomes[\"day_1\"] = (stocks.groupby(level=\"Symbol\").Close.shift(-1) - stocks.groupby(level=\"Symbol\").Close\n",
    "                               .shift(0)) / stocks.groupby(level=\"Symbol\").Open.shift(0)\n",
    "outcomes[\"day_5\"] = (stocks.groupby(level=\"Symbol\").Close.shift(-5) - stocks.groupby(level=\"Symbol\").Close\n",
    "                               .shift(0)) / stocks.groupby(level=\"Symbol\").Open.shift(0)\n",
    "outcomes[\"day_20\"] = (stocks.groupby(level=\"Symbol\").Close.shift(-20) - stocks.groupby(level=\"Symbol\").Close\n",
    "                               .shift(0)) / stocks.groupby(level=\"Symbol\").Open.shift(0)\n",
    "\n",
    "print(outcomes.tail(30))"
   ]
  },
  {
   "cell_type": "code",
   "execution_count": 10,
   "metadata": {},
   "outputs": [
    {
     "name": "stdout",
     "output_type": "stream",
     "text": [
      "(7350, 8)\n",
      "(7350,)\n"
     ]
    }
   ],
   "source": [
    "# Identify the X and y variables for the linear regression\n",
    "X = indicators\n",
    "y = outcomes.day_5\n",
    "\n",
    "# Combine X and y into a DataFrame to drop the NaN and infinity values so both variables have the same number of obs\n",
    "Xy = X.join(y).dropna()\n",
    "Xy = Xy.replace([np.inf, -np.inf], np.nan).dropna()\n",
    "y = Xy[y.name]\n",
    "X = Xy[X.columns]\n",
    "\n",
    "print(X.shape)\n",
    "print(y.shape)"
   ]
  },
  {
   "cell_type": "code",
   "execution_count": 11,
   "metadata": {},
   "outputs": [
    {
     "name": "stdout",
     "output_type": "stream",
     "text": [
      "R-Squared: 0.014471385824255445\n",
      "Coefficients: \n",
      "volume_change_ratio    0.000178\n",
      "5_day_momentum         0.024904\n",
      "50_day_ema            -0.234314\n",
      "200_day_ema           -0.016194\n",
      "macd                  -0.530446\n",
      "5_day_vol_change      -0.001576\n",
      "intraday_move         -0.005569\n",
      "z_score                0.001149\n",
      "dtype: float64\n"
     ]
    }
   ],
   "source": [
    "# Run a linear regression using all of the indicators\n",
    "from sklearn.linear_model import LinearRegression\n",
    "\n",
    "model = LinearRegression()\n",
    "model.fit(X, y)\n",
    "\n",
    "# Compute the R-Squared and the model coefficients for each indicator\n",
    "print(f\"R-Squared: {model.score(X, y)}\")\n",
    "print(f\"Coefficients: \")\n",
    "print(pd.Series(model.coef_, index=X.columns))\n",
    "## 50_day_ema and macd look to be our most meaningful indicators"
   ]
  },
  {
   "cell_type": "code",
   "execution_count": 12,
   "metadata": {},
   "outputs": [],
   "source": [
    "# Create a variable to hold the quarterly retrain dates\n",
    "retrain_dates = X.resample(\"Q\", level=\"Date\").mean().index.values[:-1]\n",
    "\n",
    "# Create the walk forward prediction model using the retrain dates \n",
    "models = pd.Series(index=retrain_dates)\n",
    "for date in retrain_dates:\n",
    "    X_train = X.xs(slice(None, date), level=\"Date\", drop_level=False)\n",
    "    y_train = y.xs(slice(None, date), level=\"Date\", drop_level=False)\n",
    "    model = LinearRegression()\n",
    "    model.fit(X_train, y_train)\n",
    "    models.loc[date] = model\n",
    "\n",
    "start_dates = models.index \n",
    "end_dates = models.index[1:].append(pd.to_datetime([\"2029-12-31\"]))\n",
    "\n",
    "predictions = pd.Series(index=indicators.index)\n",
    "\n",
    "# Get the predictions for the model each time it is retrained\n",
    "for i, model in enumerate(models):\n",
    "    X = indicators.xs(slice(start_dates[i], end_dates[i]), level=\"Date\", drop_level=False)\\\n",
    "              .replace([np.inf, -np.inf], np.nan).dropna()\n",
    "    prediction = pd.Series(model.predict(X), index=X.index)\n",
    "    predictions.loc[X.index] = prediction"
   ]
  },
  {
   "cell_type": "code",
   "execution_count": 13,
   "metadata": {},
   "outputs": [
    {
     "data": {
      "text/plain": [
       "<matplotlib.axes._subplots.AxesSubplot at 0x1a1c8307f0>"
      ]
     },
     "execution_count": 13,
     "metadata": {},
     "output_type": "execute_result"
    },
    {
     "data": {
      "image/png": "[encoded data removed]",
      "text/plain": [
       "<Figure size 720x576 with 1 Axes>"
      ]
     },
     "metadata": {
      "needs_background": "light"
     },
     "output_type": "display_data"
    }
   ],
   "source": [
    "# Create a function to graph a time series of the coefficient values for each of the technical indicators\n",
    "def extract_coefficients(models):\n",
    "    coefficients = pd.DataFrame()\n",
    "    for i, model in enumerate(models):\n",
    "        ## Grab the coefficients from the linear regression model\n",
    "        model_coefficients = pd.Series(model.coef_, index=[\"volume_change_ratio\", \"5_day_momentum\", \"50_day_ema\", \n",
    "                                                           \"200_day_ema\", \"macd\", \"5_day_vol_change\", \n",
    "                                                           \"intraday_move\", \"z_score\"])\n",
    "        model_coefficients.name = models.index[i]\n",
    "        coefficients = pd.concat([coefficients, model_coefficients], axis=1, sort=False)\n",
    "    return coefficients.T\n",
    "\n",
    "# This graph helps to more easily show that the 50 day ema and macd indicators appear to have the strongest\n",
    "# impact on the 5 day predictions made by the model\n",
    "extract_coefficients(models).plot(title=\"Coefficients for Expanding Model\", figsize=(10, 8))"
   ]
  },
  {
   "cell_type": "code",
   "execution_count": 14,
   "metadata": {},
   "outputs": [
    {
     "name": "stdout",
     "output_type": "stream",
     "text": [
      "Explained variance   -0.032684\n",
      "MAE                   0.025934\n",
      "MSE                   0.001277\n",
      "R-Squared            -0.032990\n",
      "dtype: float64\n"
     ]
    }
   ],
   "source": [
    "import sklearn.metrics as metrics\n",
    "\n",
    "# Get the same number of values for the y_pred and y_actual variables by dropping the NaN values\n",
    "common_idx = y.dropna().index.intersection(predictions.dropna().index)\n",
    "y_actual = y[common_idx]\n",
    "y_actual.name = \"y_actual\"\n",
    "y_pred = predictions[common_idx]\n",
    "y_pred.name = \"y_pred\"\n",
    "\n",
    "# Compute the statistical metrics for our model\n",
    "standard_metrics = pd.Series()\n",
    "\n",
    "standard_metrics.loc[\"Explained variance\"] = metrics.explained_variance_score(y_actual, y_pred)\n",
    "standard_metrics.loc[\"MAE\"] = metrics.mean_absolute_error(y_actual, y_pred)\n",
    "standard_metrics.loc[\"MSE\"] = metrics.mean_squared_error(y_actual, y_pred)\n",
    "standard_metrics.loc[\"R-Squared\"] = metrics.r2_score(y_actual, y_pred)\n",
    "\n",
    "print(standard_metrics)"
   ]
  },
  {
   "cell_type": "code",
   "execution_count": 15,
   "metadata": {},
   "outputs": [
    {
     "name": "stdout",
     "output_type": "stream",
     "text": [
      "                     y_pred  y_actual  sign_pred  sign_actual  correct  \\\n",
      "Date       Symbol                                                        \n",
      "2019-11-27 AAPL   -0.000834 -0.008510       -1.0         -1.0        1   \n",
      "           AMZN    0.002603 -0.043326        1.0         -1.0        0   \n",
      "           FB      0.003455 -0.013207        1.0         -1.0        0   \n",
      "           GOOGL   0.005594  0.011274        1.0          1.0        1   \n",
      "           MSFT    0.003507 -0.015690        1.0         -1.0        0   \n",
      "2019-11-29 AAPL    0.000617  0.012978        1.0          1.0        1   \n",
      "           AMZN    0.006101 -0.027066        1.0         -1.0        0   \n",
      "           FB      0.005007 -0.002927        1.0         -1.0        0   \n",
      "           GOOGL   0.006883  0.027017        1.0          1.0        1   \n",
      "           MSFT    0.005118  0.002433        1.0          1.0        1   \n",
      "\n",
      "                   incorrect  prediction    result  \n",
      "Date       Symbol                                   \n",
      "2019-11-27 AAPL            0           1  0.008510  \n",
      "           AMZN            1           1 -0.043326  \n",
      "           FB              1           1 -0.013207  \n",
      "           GOOGL           0           1  0.011274  \n",
      "           MSFT            1           1 -0.015690  \n",
      "2019-11-29 AAPL            0           1  0.012978  \n",
      "           AMZN            1           1 -0.027066  \n",
      "           FB              1           1 -0.002927  \n",
      "           GOOGL           0           1  0.027017  \n",
      "           MSFT            0           1  0.002433  \n"
     ]
    }
   ],
   "source": [
    "# Create a function to create a DataFrame with our y_pred and y_actual values as well as add columns to show whether\n",
    "# the y_pred value was accurate in predicting the y_actual value and what the resulting return would be based on the\n",
    "# prediction\n",
    "def create_df(y_pred, y_actual):\n",
    "    y_pred.name = \"y_pred\"\n",
    "    y_actual.name = \"y_actual\"\n",
    "    df = pd.concat([y_pred, y_actual], axis=1, sort=\"index\")\n",
    "    \n",
    "    df[\"sign_pred\"] = df.y_pred.apply(np.sign)\n",
    "    df[\"sign_actual\"] = df.y_actual.apply(np.sign)\n",
    "    df[\"correct\"] = 0\n",
    "    df.loc[df.sign_pred * df.sign_actual > 0, \"correct\"] = 1\n",
    "    df[\"incorrect\"] = 0\n",
    "    df.loc[df.sign_pred * df.sign_actual < 0, \"incorrect\"] = 1\n",
    "    df[\"prediction\"] = df.correct + df.incorrect\n",
    "    df[\"result\"] = df.sign_pred * df.y_actual\n",
    "    return df\n",
    "\n",
    "# A \"1\" in the \"correct\" column signifies a correct prediction of stock price direction for that ticker on that date\n",
    "training_df = create_df(y_pred, y_actual)\n",
    "print(training_df.tail(10))"
   ]
  },
  {
   "cell_type": "code",
   "execution_count": 16,
   "metadata": {},
   "outputs": [
    {
     "name": "stdout",
     "output_type": "stream",
     "text": [
      "accuracy                   56.632582\n",
      "expected_5_day_%_return     0.423346\n",
      "noise                       0.005584\n",
      "prediction_calibration      0.248268\n",
      "%_return_long               0.563509\n",
      "%_return_short             -0.263466\n",
      "dtype: float64\n"
     ]
    }
   ],
   "source": [
    "# Create a function to calculate some custom metrics for our model\n",
    "def analysis_metrics(df):\n",
    "    analysis = pd.Series()\n",
    "    \n",
    "    ## accuracy measures the $ of correct predictions\n",
    "    ## expected_weekly_return_% measures the average weekly return as a % if each stock was equally invested\n",
    "    ## noise estimates how dramatic the predictions vary day to day (extremely small is better)  \n",
    "    ## prediction_calibration is a ratio that measures the average magnitude of the y_pred values vs. the y_actual\n",
    "    ## values and indicates how well the model reflects the size of the actual stock movements (close to 1.0 is ideal)\n",
    "    analysis.loc[\"accuracy\"] = (df.correct.sum()*1 / df.prediction.sum()*1) * 100\n",
    "    analysis.loc[\"expected_5_day_%_return\"] = df.result.mean() * 100 \n",
    "    analysis.loc[\"noise\"] = df.y_pred.diff().abs().mean()\n",
    "    analysis.loc[\"prediction_calibration\"] = df.y_pred.abs().mean() / df.y_actual.abs().mean()\n",
    "    analysis.loc[\"%_return_long\"] = df[df.sign_pred == 1].result.mean() * 100\n",
    "    analysis.loc[\"%_return_short\"] = df[df.sign_pred == -1].result.mean() * 100\n",
    "    return analysis\n",
    "\n",
    "analysis = analysis_metrics(training_df)\n",
    "print(analysis)"
   ]
  },
  {
   "cell_type": "code",
   "execution_count": 17,
   "metadata": {},
   "outputs": [
    {
     "name": "stdout",
     "output_type": "stream",
     "text": [
      "Year                          2014       2015       2016       2017  \\\n",
      "accuracy                 48.484848  55.043685  53.852264  63.397129   \n",
      "expected_5_day_%_return  -0.024741   0.516258   0.327454   0.729681   \n",
      "noise                     0.014327   0.006228   0.003799   0.002596   \n",
      "prediction_calibration    0.419498   0.177078   0.267816   0.240095   \n",
      "%_return_long             0.245845   0.868511   0.391448   0.823009   \n",
      "%_return_short           -0.522683  -0.238321  -0.383856  -0.507967   \n",
      "\n",
      "Year                          2018       2019  \n",
      "accuracy                 56.494024  60.952381  \n",
      "expected_5_day_%_return   0.140595   0.773403  \n",
      "noise                     0.005028   0.003402  \n",
      "prediction_calibration    0.223345   0.206367  \n",
      "%_return_long             0.121071   0.879199  \n",
      "%_return_short            0.288900  -0.032698  \n"
     ]
    }
   ],
   "source": [
    "# Create a function to show the custom analysis metrics from the analysis_metrics function by year\n",
    "def results_by_year(df):\n",
    "    df[\"Year\"] = df.index.get_level_values(\"Date\").year\n",
    "    return df.groupby(\"Year\").apply(analysis_metrics).T\n",
    "\n",
    "yearly_results = results_by_year(training_df)\n",
    "print(yearly_results)"
   ]
  },
  {
   "cell_type": "code",
   "execution_count": 18,
   "metadata": {},
   "outputs": [
    {
     "name": "stdout",
     "output_type": "stream",
     "text": [
      "Month                          Jan        Feb        Mar        Apr  \\\n",
      "accuracy                 58.613861  60.208333  61.818182  62.419355   \n",
      "expected_5_day_%_return   0.551353   0.527566   0.557170   0.826235   \n",
      "noise                     0.005354   0.006101   0.005139   0.006076   \n",
      "prediction_calibration    0.202451   0.257608   0.218267   0.199364   \n",
      "%_return_long             0.904426   0.938867   0.506542   1.011176   \n",
      "%_return_short           -2.223678  -1.139282   0.752964   0.031147   \n",
      "\n",
      "Month                          May       June       July        Aug  \\\n",
      "accuracy                 55.156250  48.902821  64.094488  54.367470   \n",
      "expected_5_day_%_return   0.264957   0.154578   1.125190   0.294171   \n",
      "noise                     0.007821   0.010406   0.004747   0.004802   \n",
      "prediction_calibration    0.343069   0.454462   0.145638   0.265445   \n",
      "%_return_long             0.522855   0.301827   1.411564   0.351184   \n",
      "%_return_short           -0.830053  -0.496810  -0.116569   0.054980   \n",
      "\n",
      "Month                         Sept        Oct        Nov        Dec  \n",
      "accuracy                 54.111842  57.548580  50.491803  53.076923  \n",
      "expected_5_day_%_return   0.282766   0.467961   0.023383  -0.008610  \n",
      "noise                     0.004614   0.003677   0.004063   0.003975  \n",
      "prediction_calibration    0.285216   0.202373   0.265042   0.244771  \n",
      "%_return_long             0.293220   0.717391   0.004019  -0.166891  \n",
      "%_return_short            0.231311  -1.603691   0.108549   1.357291  \n"
     ]
    }
   ],
   "source": [
    "# Create a function to show the custom analysis metrics from the analysis_metrics function by month\n",
    "def results_by_month(df):\n",
    "    df[\"Month\"] = df.index.get_level_values(\"Date\").month\n",
    "    return df.groupby(\"Month\").apply(analysis_metrics).T\n",
    "\n",
    "average_monthly_results = results_by_month(training_df)\n",
    "average_monthly_results = average_monthly_results.rename(columns={1: \"Jan\",\n",
    "                                                                  2: \"Feb\",\n",
    "                                                                  3: \"Mar\",\n",
    "                                                                  4: \"Apr\",\n",
    "                                                                  5: \"May\",\n",
    "                                                                  6: \"June\",\n",
    "                                                                  7: \"July\",\n",
    "                                                                  8: \"Aug\",\n",
    "                                                                  9: \"Sept\",\n",
    "                                                                  10: \"Oct\",\n",
    "                                                                  11: \"Nov\",\n",
    "                                                                  12: \"Dec\"})\n",
    "print(average_monthly_results)"
   ]
  },
  {
   "cell_type": "code",
   "execution_count": 19,
   "metadata": {},
   "outputs": [
    {
     "name": "stdout",
     "output_type": "stream",
     "text": [
      "Symbol                        AAPL       AMZN         FB      GOOGL       MSFT\n",
      "accuracy                 54.131653  53.743877  57.563025  57.942617  59.789474\n",
      "expected_5_day_%_return   0.191472   0.344801   0.539696   0.474967   0.565792\n",
      "noise                     0.002543   0.002971   0.002631   0.002120   0.002364\n",
      "prediction_calibration    0.240856   0.237158   0.238715   0.259554   0.271979\n",
      "%_return_long             0.457777   0.703811   0.584630   0.457217   0.631147\n",
      "%_return_short           -0.754165  -0.556691   0.211310   0.635842   0.100504\n"
     ]
    }
   ],
   "source": [
    "# Create a function to show the custom analysis metrics from the analysis_metrics function by symbol\n",
    "def results_by_symbol(df):\n",
    "    #df[\"Sym\"] = df.index.get_level_values(\"Date\").year\n",
    "    return df.groupby(\"Symbol\").apply(analysis_metrics).T\n",
    "\n",
    "symbol_results = results_by_symbol(training_df)\n",
    "print(symbol_results)"
   ]
  },
  {
   "cell_type": "code",
   "execution_count": 20,
   "metadata": {},
   "outputs": [
    {
     "name": "stdout",
     "output_type": "stream",
     "text": [
      "                         model1_train  model1_test\n",
      "accuracy                    57.433975    59.669421\n",
      "expected_5_day_%_return      0.481460     0.700906\n",
      "noise                        0.003275     0.003357\n",
      "prediction_calibration       0.200400     0.203633\n",
      "%_return_long                0.524030     0.818000\n",
      "%_return_short               0.103128    -0.114135\n"
     ]
    }
   ],
   "source": [
    "from sklearn.model_selection import train_test_split\n",
    "from sklearn.linear_model import ElasticNetCV, Lasso, Ridge\n",
    "\n",
    "# Use test_size=1235 to make roughly the last 12 months of data as the test data\n",
    "X_train, X_test, y_train, y_test = train_test_split(indicators, outcomes.day_5, test_size=1235, shuffle=False)\n",
    "\n",
    "# Get rid of any NaN or infinity values\n",
    "Xy_train = X_train.join(y_train).dropna()\n",
    "Xy_train = Xy_train.replace([np.inf, -np.inf], np.nan).dropna()\n",
    "X_train_adjust = Xy_train[X_train.columns]\n",
    "y_train_adjust = Xy_train[y_train.name]\n",
    "\n",
    "Xy_test = X_test.join(y_test).dropna()\n",
    "Xy_test = Xy_test.replace([np.inf, -np.inf], np.nan).dropna()\n",
    "X_test_adjust = Xy_test[X_test.columns]\n",
    "y_test_adjust = Xy_test[y_test.name]\n",
    "\n",
    "# Linear Regression model\n",
    "model1 = LinearRegression().fit(X_train_adjust, y_train_adjust)\n",
    "model1_train = pd.Series(model1.predict(X_train_adjust), index=X_train_adjust.index)\n",
    "model1_test = pd.Series(model1.predict(X_test_adjust), index=X_test_adjust.index)\n",
    "\n",
    "# Create a DataFrame of each model that contains the analysis metrics\n",
    "model1_train_df = create_df(model1_train, y_train_adjust)\n",
    "model1_test_df = create_df(model1_test, y_test_adjust)\n",
    "\n",
    "results1 = analysis_metrics(model1_train_df)\n",
    "results1.name = \"model1_train\"\n",
    "results2 = analysis_metrics(model1_test_df)\n",
    "results2.name = \"model1_test\"\n",
    "\n",
    "print(pd.concat([results1, results2], axis=1))"
   ]
  },
  {
   "cell_type": "code",
   "execution_count": 21,
   "metadata": {},
   "outputs": [],
   "source": [
    "# Create a function to output the models and predictions from our walk forward model\n",
    "def create_prediction_model(X, y, algo=LinearRegression()):\n",
    "    return models, predictions\n",
    "\n",
    "linear_models, linear_predictions = create_prediction_model(X, y, algo=LinearRegression())"
   ]
  },
  {
   "cell_type": "code",
   "execution_count": 22,
   "metadata": {},
   "outputs": [
    {
     "name": "stdout",
     "output_type": "stream",
     "text": [
      "Models:\n",
      "2018-09-30    LinearRegression(copy_X=True, fit_intercept=Tr...\n",
      "2018-12-31    LinearRegression(copy_X=True, fit_intercept=Tr...\n",
      "2019-03-31    LinearRegression(copy_X=True, fit_intercept=Tr...\n",
      "2019-06-30    LinearRegression(copy_X=True, fit_intercept=Tr...\n",
      "2019-09-30    LinearRegression(copy_X=True, fit_intercept=Tr...\n",
      "dtype: object\n"
     ]
    }
   ],
   "source": [
    "# The model retrains on a quarterly basis\n",
    "print(\"Models:\")\n",
    "print(linear_models.tail())"
   ]
  },
  {
   "cell_type": "code",
   "execution_count": 23,
   "metadata": {},
   "outputs": [
    {
     "name": "stdout",
     "output_type": "stream",
     "text": [
      "Predictions:\n",
      "Date        Symbol\n",
      "2019-11-29  AAPL       0.0006169\n",
      "            AMZN       0.0061009\n",
      "            FB         0.0050066\n",
      "            GOOGL      0.0068825\n",
      "            MSFT       0.0051179\n",
      "2019-12-02  AAPL       0.0016655\n",
      "            AMZN       0.0071225\n",
      "            FB         0.0064040\n",
      "            GOOGL      0.0083102\n",
      "            MSFT       0.0059717\n",
      "2019-12-03  AAPL       0.0039047\n",
      "            AMZN       0.0082853\n",
      "            FB         0.0073848\n",
      "            GOOGL      0.0062024\n",
      "            MSFT       0.0061370\n",
      "2019-12-04  AAPL       0.0027060\n",
      "            AMZN       0.0087223\n",
      "            FB         0.0074228\n",
      "            GOOGL      0.0021395\n",
      "            MSFT       0.0056485\n",
      "2019-12-05  AAPL      -0.0011784\n",
      "            AMZN       0.0096448\n",
      "            FB         0.0063354\n",
      "            GOOGL      0.0021038\n",
      "            MSFT       0.0046712\n",
      "2019-12-06  AAPL      -0.0058569\n",
      "            AMZN       0.0069566\n",
      "            FB         0.0037925\n",
      "            GOOGL     -0.0004127\n",
      "            MSFT       0.0023733\n",
      "dtype: object\n"
     ]
    }
   ],
   "source": [
    "# The predictions are forecasting the directional price movement on a forward rolling 5 day period\n",
    "# Ex: The prediction on \"2019-11-08\" is predicting the directional price movement from the closing price on \n",
    "# \"2019-11-08\" to the closing price on \"2019-11-15\"\n",
    "print(\"Predictions:\")\n",
    "print(linear_predictions.apply(lambda x: '%.7f' % x).dropna().tail(30))"
   ]
  },
  {
   "cell_type": "code",
   "execution_count": 24,
   "metadata": {},
   "outputs": [
    {
     "data": {
      "text/plain": [
       "Explained variance         -0.032684\n",
       "MAE                         0.025934\n",
       "R-Squared                  -0.032990\n",
       "accuracy                   56.632582\n",
       "expected_5_day_%_return     0.423346\n",
       "noise                       0.005584\n",
       "prediction_calibration      0.248268\n",
       "%_return_long               0.563509\n",
       "%_return_short             -0.263466\n",
       "dtype: float64"
      ]
     },
     "execution_count": 24,
     "metadata": {},
     "output_type": "execute_result"
    }
   ],
   "source": [
    "# Combine our \"create_df\" function and \"analysis_metrics\" function into one function\n",
    "def prediction_metrics(y_pred, y_actual):\n",
    "\n",
    "    def create_df(y_pred, y_actual):\n",
    "        y_pred.name = \"y_pred\"\n",
    "        y_actual.name = \"y_actual\"\n",
    "        df = pd.concat([y_pred, y_actual], axis=1, sort=\"index\").dropna()\n",
    "\n",
    "        df[\"sign_pred\"] = df.y_pred.apply(np.sign)\n",
    "        df[\"sign_actual\"] = df.y_actual.apply(np.sign)\n",
    "        df[\"correct\"] = 0\n",
    "        df.loc[df.sign_pred * df.sign_actual > 0, \"correct\"] = 1\n",
    "        df[\"incorrect\"] = 0\n",
    "        df.loc[df.sign_pred * df.sign_actual < 0, \"incorrect\"] = 1\n",
    "        df[\"prediction\"] = df.correct + df.incorrect\n",
    "        df[\"result\"] = df.sign_pred * df.y_actual\n",
    "        return df\n",
    "    \n",
    "    df = create_df(y_pred, y_actual)\n",
    "    \n",
    "    analysis = pd.Series()\n",
    "\n",
    "    analysis.loc[\"Explained variance\"] = metrics.explained_variance_score(df.y_actual, df.y_pred)\n",
    "    analysis.loc[\"MAE\"] = metrics.mean_absolute_error(df.y_actual, df.y_pred)\n",
    "    analysis.loc[\"R-Squared\"] = metrics.r2_score(df.y_actual, df.y_pred)\n",
    "    analysis.loc[\"accuracy\"] = (df.correct.sum()*1 / df.prediction.sum()*1) * 100\n",
    "    analysis.loc[\"expected_5_day_%_return\"] = df.result.mean() * 100 \n",
    "    analysis.loc[\"noise\"] = df.y_pred.diff().abs().mean()\n",
    "    analysis.loc[\"prediction_calibration\"] = df.y_pred.abs().mean() / df.y_actual.abs().mean()\n",
    "    analysis.loc[\"%_return_long\"] = df[df.sign_pred == 1].result.mean() * 100\n",
    "    analysis.loc[\"%_return_short\"] = df[df.sign_pred == -1].result.mean() * 100\n",
    "\n",
    "    return analysis\n",
    "\n",
    "prediction_metrics(y_pred=linear_predictions, y_actual=y)"
   ]
  },
  {
   "cell_type": "code",
   "execution_count": 25,
   "metadata": {},
   "outputs": [
    {
     "name": "stdout",
     "output_type": "stream",
     "text": [
      "Date                     2019-03-31  2019-06-30  2019-09-30  2019-12-31\n",
      "Explained variance         0.067914   -0.006295    0.030449    0.002783\n",
      "MAE                        0.024535    0.028301    0.022138    0.016863\n",
      "R-Squared                 -0.062317   -0.008487   -0.009780   -0.124787\n",
      "accuracy                  70.491803   57.142857   52.187500   66.046512\n",
      "expected_5_day_%_return    1.705214    0.380417    0.187095    0.899948\n",
      "noise                      0.003719    0.003368    0.002960    0.003678\n",
      "prediction_calibration     0.187758    0.153734    0.259442    0.269984\n",
      "%_return_long              1.926828    0.545864    0.090429    1.157405\n",
      "%_return_short             0.317490   -0.368447    2.668191   -1.249258\n"
     ]
    }
   ],
   "source": [
    "# Show a breakdown of the analysis metrics for the last 4 quarters of predictions\n",
    "def metrics_by_quarter(y_pred, y_actual):\n",
    "    df = pd.concat([y_pred, y_actual], axis=1).dropna().reset_index().set_index(\"Date\")\n",
    "    quarterly_analysis = df.resample(\"Q\").apply(lambda df: prediction_metrics(df[y_pred.name], df[y_actual.name]))\n",
    "    return quarterly_analysis\n",
    "\n",
    "quarterly_metrics = metrics_by_quarter(y_pred=linear_predictions, y_actual=y)\n",
    "print(quarterly_metrics.tail(4).T)"
   ]
  },
  {
   "cell_type": "code",
   "execution_count": 26,
   "metadata": {},
   "outputs": [
    {
     "data": {
      "text/plain": [
       "<matplotlib.axes._subplots.AxesSubplot at 0x1a1b93f160>"
      ]
     },
     "execution_count": 26,
     "metadata": {},
     "output_type": "execute_result"
    },
    {
     "data": {
      "image/png": "[encoded data removed]",
      "text/plain": [
       "<Figure size 432x288 with 1 Axes>"
      ]
     },
     "metadata": {
      "needs_background": "light"
     },
     "output_type": "display_data"
    }
   ],
   "source": [
    "# Chart the accuracy over time on a quarterly basis\n",
    "quarterly_metrics[\"accuracy\"].plot(title=\"Accuracy % by Quarter\")"
   ]
  },
  {
   "cell_type": "code",
   "execution_count": 27,
   "metadata": {},
   "outputs": [
    {
     "data": {
      "text/plain": [
       "<matplotlib.axes._subplots.AxesSubplot at 0x1187df7b8>"
      ]
     },
     "execution_count": 27,
     "metadata": {},
     "output_type": "execute_result"
    },
    {
     "data": {
      "image/png": "[encoded data removed]",
      "text/plain": [
       "<Figure size 432x288 with 1 Axes>"
      ]
     },
     "metadata": {
      "needs_background": "light"
     },
     "output_type": "display_data"
    }
   ],
   "source": [
    "# Chart the expected_weekly_return_% over time on a quarterly basis\n",
    "quarterly_metrics[\"expected_5_day_%_return\"].plot(title=\"Average Expected 5 Day % Return by Quarter\")"
   ]
  },
  {
   "cell_type": "code",
   "execution_count": 28,
   "metadata": {},
   "outputs": [
    {
     "name": "stdout",
     "output_type": "stream",
     "text": [
      "Date        Symbol\n",
      "2019-11-27  AAPL     -0.008510\n",
      "            AMZN     -0.043326\n",
      "            FB       -0.013207\n",
      "            GOOGL     0.011274\n",
      "            MSFT     -0.015690\n",
      "2019-11-29  AAPL      0.012978\n",
      "            AMZN     -0.027066\n",
      "            FB       -0.002927\n",
      "            GOOGL     0.027017\n",
      "            MSFT      0.002433\n",
      "2019-12-02  AAPL           NaN\n",
      "            AMZN           NaN\n",
      "            FB             NaN\n",
      "            GOOGL          NaN\n",
      "            MSFT           NaN\n",
      "2019-12-03  AAPL           NaN\n",
      "            AMZN           NaN\n",
      "            FB             NaN\n",
      "            GOOGL          NaN\n",
      "            MSFT           NaN\n",
      "2019-12-04  AAPL           NaN\n",
      "            AMZN           NaN\n",
      "            FB             NaN\n",
      "            GOOGL          NaN\n",
      "            MSFT           NaN\n",
      "2019-12-05  AAPL           NaN\n",
      "            AMZN           NaN\n",
      "            FB             NaN\n",
      "            GOOGL          NaN\n",
      "            MSFT           NaN\n",
      "2019-12-06  AAPL           NaN\n",
      "            AMZN           NaN\n",
      "            FB             NaN\n",
      "            GOOGL          NaN\n",
      "            MSFT           NaN\n",
      "Name: day_5, dtype: float64\n"
     ]
    }
   ],
   "source": [
    "print(outcomes[\"day_5\"].tail(35))"
   ]
  },
  {
   "cell_type": "code",
   "execution_count": null,
   "metadata": {},
   "outputs": [],
   "source": []
  }
 ],
 "metadata": {
  "kernelspec": {
   "display_name": "Python 3",
   "language": "python",
   "name": "python3"
  },
  "language_info": {
   "codemirror_mode": {
    "name": "ipython",
    "version": 3
   },
   "file_extension": ".py",
   "mimetype": "text/x-python",
   "name": "python",
   "nbconvert_exporter": "python",
   "pygments_lexer": "ipython3",
   "version": "3.6.8"
  }
 },
 "nbformat": 4,
 "nbformat_minor": 2
}
