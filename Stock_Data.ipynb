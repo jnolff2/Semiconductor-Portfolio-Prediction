{
 "cells": [
  {
   "cell_type": "code",
   "execution_count": 55,
   "metadata": {},
   "outputs": [],
   "source": [
    "# Dependencies\n",
    "import pandas as pd\n",
    "import numpy as np\n",
    "import matplotlib as plt\n",
    "# Library that downloads historical market data from Yahoo! Finance in a Pythonic way since Yahoo! Finance\n",
    "# decommissioned their historical market data API\n",
    "import yfinance as yf"
   ]
  },
  {
   "cell_type": "code",
   "execution_count": 56,
   "metadata": {},
   "outputs": [],
   "source": [
    "# Create a function to get the stock data for a list of symbol(s) with specific start and end dates\n",
    "## The function automatically puts the data into a DataFrame, concatenates each ticker dataframe together, and\n",
    "## indexes it by Date then Symbol\n",
    "def get_stock_data(symbol_list, start=None, end=None):\n",
    "    output = pd.DataFrame()\n",
    "    for symbol in symbol_list:\n",
    "        df = yf.download(symbol, start, end, auto_adjust=True)\n",
    "        df[\"Symbol\"] = symbol\n",
    "        df = df.reset_index([\"Date\"])\n",
    "        df = df.set_index([\"Date\", \"Symbol\"])\n",
    "        output = pd.concat([output, df], axis=0)\n",
    "    return output.sort_index()"
   ]
  },
  {
   "cell_type": "code",
   "execution_count": 57,
   "metadata": {},
   "outputs": [
    {
     "name": "stdout",
     "output_type": "stream",
     "text": [
      "[*********************100%***********************]  1 of 1 completed\n",
      "[*********************100%***********************]  1 of 1 completed\n",
      "[*********************100%***********************]  1 of 1 completed\n",
      "[*********************100%***********************]  1 of 1 completed\n",
      "[*********************100%***********************]  1 of 1 completed\n",
      "                          Open         High          Low        Close  \\\n",
      "Date       Symbol                                                       \n",
      "2019-11-07 AAPL     258.739990   260.350006   258.109985   259.429993   \n",
      "           AMZN    1803.760010  1805.900024  1783.479980  1788.199951   \n",
      "           FB       191.910004   193.440002   189.470001   190.419998   \n",
      "           GOOGL   1294.280029  1322.650024  1293.750000  1306.939941   \n",
      "           MSFT     143.839996   144.880005   143.770004   144.259995   \n",
      "2019-11-08 AAPL     258.690002   260.440002   256.850006   260.140015   \n",
      "           AMZN    1787.890015  1789.880005  1774.040039  1785.880005   \n",
      "           FB       190.000000   192.339996   189.699997   190.839996   \n",
      "           GOOGL   1301.520020  1317.109985  1301.520020  1309.000000   \n",
      "           MSFT     143.979996   145.990005   143.759995   145.960007   \n",
      "\n",
      "                     Volume  \n",
      "Date       Symbol            \n",
      "2019-11-07 AAPL    23735100  \n",
      "           AMZN     2651100  \n",
      "           FB      13473000  \n",
      "           GOOGL    2257000  \n",
      "           MSFT    17786700  \n",
      "2019-11-08 AAPL    17496600  \n",
      "           AMZN     2123300  \n",
      "           FB      10760800  \n",
      "           GOOGL    1519600  \n",
      "           MSFT    16732700  \n"
     ]
    }
   ],
   "source": [
    "# Pull the updated stock data from Yahoo! Finance using the yfinance library for our designated time frame\n",
    "stocks = get_stock_data([\"AAPL\", \"AMZN\", \"FB\", \"GOOGL\", \"MSFT\"], start=\"2014-01-01\", end=None)\n",
    "print(stocks.tail(10))"
   ]
  },
  {
   "cell_type": "code",
   "execution_count": 58,
   "metadata": {},
   "outputs": [],
   "source": [
    "# Create a DataFrame to hold all of our indicators that will be used in our model to predict future stock prices\n",
    "indicators = pd.DataFrame(index=stocks.index)\n",
    "\n",
    "# Calculate the ratio of the change in volume from the previous day\n",
    "indicators[\"volume_change_ratio\"] = stocks.groupby(level=\"Symbol\").Volume.diff(1) / stocks.groupby(level=\"Symbol\")\\\n",
    "                                    .shift(1).Volume\n",
    "# Calculate the percentage price change in the stock on a rolling 5 day basis\n",
    "indicators[\"5_day_momentum\"] = stocks.groupby(level=\"Symbol\").Close.pct_change(5)"
   ]
  },
  {
   "cell_type": "code",
   "execution_count": 59,
   "metadata": {},
   "outputs": [],
   "source": [
    "# 12 day, 26 day, 50 day, and 200 day exponential moving averages\n",
    "ema_12_day = lambda x: x.ewm(span=12).mean()\n",
    "ema_26_day = lambda x: x.ewm(span=26).mean()\n",
    "ema_50_day = lambda x: x.ewm(span=50).mean()\n",
    "ema_200_day = lambda x: x.ewm(span=200).mean()\n",
    "\n",
    "# Daily closing price vs. 50 day exponential moving average\n",
    "indicators[\"50_day_ema\"] = stocks.Close / stocks.Close.groupby(level=\"Symbol\").apply(ema_50_day) - 1\n",
    "# Daily closing price vs. 200 day exponential moving average\n",
    "indicators[\"200_day_ema\"] = stocks.Close / stocks.Close.groupby(level=\"Symbol\").apply(ema_200_day) - 1\n",
    "\n",
    "# The moving average convergence divergence (macd) shows the relationship between the 12 and 26 day exponential moving\n",
    "# averages by revealing changes in the strength, direction, momentum, and duration of a trend\n",
    "indicators[\"macd\"] = (stocks.Close / stocks.Close.groupby(level=\"Symbol\").apply(ema_12_day) - 1) - \\\n",
    "                      (stocks.Close / stocks.Close.groupby(level=\"Symbol\").apply(ema_26_day) - 1)"
   ]
  },
  {
   "cell_type": "code",
   "execution_count": 60,
   "metadata": {},
   "outputs": [
    {
     "name": "stdout",
     "output_type": "stream",
     "text": [
      "                   volume_change_ratio  5_day_momentum  50_day_ema  \\\n",
      "Date       Symbol                                                    \n",
      "2019-11-01 AAPL               0.085966        0.037473    0.120675   \n",
      "           AMZN               0.003308        0.017095    0.006009   \n",
      "           FB                -0.486555        0.030497    0.040630   \n",
      "           GOOGL             -0.096803        0.006288    0.038617   \n",
      "           MSFT               0.346404        0.021246    0.035324   \n",
      "2019-11-04 AAPL              -0.316646        0.033929    0.122399   \n",
      "           AMZN              -0.006630        0.015520    0.012899   \n",
      "           FB                -0.245972        0.028089    0.044636   \n",
      "           GOOGL              0.063168        0.000489    0.050614   \n",
      "           MSFT              -0.489501        0.002497    0.039619   \n",
      "2019-11-05 AAPL              -0.226338        0.056887    0.115503   \n",
      "           AMZN              -0.319781        0.022125    0.010798   \n",
      "           FB                -0.392718        0.026465    0.040756   \n",
      "           GOOGL             -0.179224        0.024416    0.049959   \n",
      "           MSFT               0.079127        0.011412    0.037386   \n",
      "2019-11-06 AAPL              -0.050480        0.057469    0.110927   \n",
      "           AMZN               0.076531        0.008865    0.007170   \n",
      "           FB                 0.103701        0.017530    0.024878   \n",
      "           GOOGL             -0.020523        0.024042    0.047572   \n",
      "           MSFT              -0.091747       -0.003803    0.033115   \n",
      "2019-11-07 AAPL               0.251449        0.046024    0.118322   \n",
      "           AMZN               0.306089        0.006495    0.002810   \n",
      "           FB                 0.227832       -0.006418    0.018080   \n",
      "           GOOGL              0.833022        0.038243    0.057988   \n",
      "           MSFT               0.073052        0.006208    0.033150   \n",
      "2019-11-08 AAPL              -0.262839        0.019940    0.116070   \n",
      "           AMZN              -0.199087       -0.003104    0.001449   \n",
      "           FB                -0.201306       -0.014358    0.019513   \n",
      "           GOOGL             -0.326717        0.028886    0.057182   \n",
      "           MSFT              -0.059258        0.015586    0.043470   \n",
      "\n",
      "                   200_day_ema      macd  5_day_vol_change  intraday_move  \n",
      "Date       Symbol                                                          \n",
      "2019-11-01 AAPL       0.244001 -0.032243          1.056763       0.025166  \n",
      "           AMZN       0.003261 -0.001944         -0.710130       0.001918  \n",
      "           FB         0.070746 -0.010898          1.693371       0.003993  \n",
      "           GOOGL      0.081821 -0.011856          0.063017       0.005096  \n",
      "           MSFT       0.117745 -0.010619          0.276147      -0.003743  \n",
      "2019-11-04 AAPL       0.249036 -0.034282          0.069369       0.000661  \n",
      "           AMZN       0.010558 -0.003301         -0.252636       0.002027  \n",
      "           FB         0.076007 -0.012736          0.198669       0.000874  \n",
      "           GOOGL      0.095530 -0.013192         -0.531821       0.010579  \n",
      "           MSFT       0.122813 -0.011536         -0.520636      -0.001933  \n",
      "2019-11-05 AAPL       0.244181 -0.035071         -0.440648       0.000311  \n",
      "           AMZN       0.008816 -0.004165         -0.171900      -0.004118  \n",
      "           FB         0.073009 -0.013757         -0.267619      -0.005374  \n",
      "           GOOGL      0.096025 -0.014077         -0.522505       0.000186  \n",
      "           MSFT       0.120752 -0.012004         -0.113616      -0.003518  \n",
      "2019-11-06 AAPL       0.241689 -0.035320         -0.390755       0.001830  \n",
      "           AMZN       0.005436 -0.004513         -0.171307      -0.002904  \n",
      "           FB         0.057106 -0.013063         -0.618126      -0.012782  \n",
      "           GOOGL      0.094619 -0.014547         -0.156759       0.000713  \n",
      "           MSFT       0.116342 -0.011978         -0.103846      -0.002147  \n",
      "2019-11-07 AAPL       0.252829 -0.036381         -0.317771       0.002667  \n",
      "           AMZN       0.001185 -0.004386         -0.046778      -0.008626  \n",
      "           FB         0.050338 -0.011987         -0.681388      -0.007764  \n",
      "           GOOGL      0.106934 -0.015918          0.415047       0.009781  \n",
      "           MSFT       0.116582 -0.011969         -0.277113       0.002920  \n",
      "2019-11-08 AAPL       0.253062 -0.036741         -0.536898       0.005605  \n",
      "           AMZN      -0.000113 -0.004143         -0.239070      -0.001124  \n",
      "           FB         0.052104 -0.011264         -0.504380       0.004421  \n",
      "           GOOGL      0.107482 -0.016799          0.054838       0.005747  \n",
      "           MSFT       0.128283 -0.012890         -0.494914       0.013752  \n"
     ]
    }
   ],
   "source": [
    "# Volume percentage change over the previous 5 day rolling period\n",
    "vol_pct_change = lambda x: x.pct_change(5)\n",
    "indicators[\"5_day_vol_change\"] = stocks.groupby(level=\"Symbol\").Volume.apply(vol_pct_change)\n",
    "\n",
    "# Intraday percentage change from opening price to closing price each day\n",
    "indicators[\"intraday_move\"] = (stocks.groupby(level=\"Symbol\").Close.shift(0) - stocks.groupby(level=\"Symbol\").Open\n",
    "                               .shift(0)) / stocks.groupby(level=\"Symbol\").Open.shift(0)\n",
    "\n",
    "print(indicators.tail(30))"
   ]
  },
  {
   "cell_type": "code",
   "execution_count": 68,
   "metadata": {},
   "outputs": [
    {
     "name": "stdout",
     "output_type": "stream",
     "text": [
      "Date        Symbol\n",
      "2019-11-06  AAPL      2.610391\n",
      "            AMZN     -0.070126\n",
      "            FB        0.847734\n",
      "            GOOGL     2.040062\n",
      "            MSFT      1.364961\n",
      "2019-11-07  AAPL      2.704770\n",
      "            AMZN     -0.151484\n",
      "            FB        0.751933\n",
      "            GOOGL     2.284488\n",
      "            MSFT      1.371788\n",
      "2019-11-08  AAPL      2.691248\n",
      "            AMZN     -0.180733\n",
      "            FB        0.783048\n",
      "            GOOGL     2.281599\n",
      "            MSFT      1.503972\n",
      "Name: z_score, dtype: float64\n"
     ]
    },
    {
     "data": {
      "image/png": "[encoded data removed]",
      "text/plain": [
       "<Figure size 432x288 with 1 Axes>"
      ]
     },
     "metadata": {
      "needs_background": "light"
     },
     "output_type": "display_data"
    }
   ],
   "source": [
    "# Use a rolling 200 day window to calculate the z-scores for each ticker\n",
    "## Use of a specified period prevents the z-score from using the mean and std dev from the entire time period of the data\n",
    "z_score = lambda x: (x - x.rolling(window=200, min_periods=20).mean()) / x.rolling(window=200, min_periods=20).std()\n",
    "indicators[\"z_score\"] = stocks.groupby(level=\"Symbol\").Close.apply(z_score)\n",
    "indicators.z_score.unstack().plot.kde(title='Z-score (accurate)')\n",
    "print(indicators[\"z_score\"].tail(15))"
   ]
  },
  {
   "cell_type": "code",
   "execution_count": 69,
   "metadata": {},
   "outputs": [
    {
     "data": {
      "text/plain": [
       "Index(['volume_change_ratio', '5_day_momentum', '50_day_ema', '200_day_ema',\n",
       "       'macd', '5_day_vol_change', 'intraday_move', 'z_score'],\n",
       "      dtype='object')"
      ]
     },
     "execution_count": 69,
     "metadata": {},
     "output_type": "execute_result"
    }
   ],
   "source": [
    "indicators.columns"
   ]
  },
  {
   "cell_type": "code",
   "execution_count": 70,
   "metadata": {},
   "outputs": [
    {
     "name": "stdout",
     "output_type": "stream",
     "text": [
      "                      day_1     day_5  day_20\n",
      "Date       Symbol                            \n",
      "2019-11-01 AAPL   -0.006524 -0.019550     NaN\n",
      "           AMZN   -0.007326  0.003113     NaN\n",
      "           FB     -0.005649  0.014567     NaN\n",
      "           GOOGL  -0.013461 -0.028075     NaN\n",
      "           MSFT   -0.005742 -0.015347     NaN\n",
      "2019-11-04 AAPL    0.001439       NaN     NaN\n",
      "           AMZN    0.001637       NaN     NaN\n",
      "           FB      0.002058       NaN     NaN\n",
      "           GOOGL  -0.001417       NaN     NaN\n",
      "           MSFT    0.000623       NaN     NaN\n",
      "2019-11-05 AAPL   -0.000428       NaN     NaN\n",
      "           AMZN    0.003308       NaN     NaN\n",
      "           FB      0.014461       NaN     NaN\n",
      "           GOOGL   0.000333       NaN     NaN\n",
      "           MSFT    0.002777       NaN     NaN\n",
      "2019-11-06 AAPL   -0.011410       NaN     NaN\n",
      "           AMZN    0.004233       NaN     NaN\n",
      "           FB      0.005934       NaN     NaN\n",
      "           GOOGL  -0.012189       NaN     NaN\n",
      "           MSFT   -0.001386       NaN     NaN\n",
      "2019-11-07 AAPL   -0.002729       NaN     NaN\n",
      "           AMZN    0.001299       NaN     NaN\n",
      "           FB     -0.002201       NaN     NaN\n",
      "           GOOGL  -0.001574       NaN     NaN\n",
      "           MSFT   -0.011647       NaN     NaN\n",
      "2019-11-08 AAPL         NaN       NaN     NaN\n",
      "           AMZN         NaN       NaN     NaN\n",
      "           FB           NaN       NaN     NaN\n",
      "           GOOGL        NaN       NaN     NaN\n",
      "           MSFT         NaN       NaN     NaN\n"
     ]
    }
   ],
   "source": [
    "# Create a DataFrame to hold the stock price movement predictions\n",
    "outcomes = pd.DataFrame(index=stocks.index)\n",
    "\n",
    "# Calcualte the next day, the next 5 day, and the next 20 day percentage change based on closing price\n",
    "## For the purposes of this model, we will be using these outcomes to predict the directional price change, \n",
    "## not necessarily using the prediction as an indication of magnitude of price change\n",
    "next_day = lambda x: x.pct_change(-1)\n",
    "next_5_days = lambda x: x.pct_change(-5)\n",
    "next_20_days = lambda x: x.pct_change(-20)\n",
    "outcomes[\"day_1\"] = stocks.groupby(level=\"Symbol\").Close.apply(next_day)\n",
    "outcomes[\"day_5\"] = stocks.groupby(level=\"Symbol\").Close.apply(next_5_days)\n",
    "outcomes[\"day_20\"] = stocks.groupby(level=\"Symbol\").Close.apply(next_20_days)\n",
    "\n",
    "print(outcomes.tail(30))"
   ]
  },
  {
   "cell_type": "code",
   "execution_count": 71,
   "metadata": {},
   "outputs": [
    {
     "name": "stdout",
     "output_type": "stream",
     "text": [
      "(7255, 8)\n",
      "(7255,)\n"
     ]
    }
   ],
   "source": [
    "# Identify the X and y variables for the linear regression\n",
    "X = indicators\n",
    "y = outcomes.day_5\n",
    "\n",
    "# Combine X and y into a DataFrame to drop the NaN and infinity values so both variables have the same number of obs\n",
    "Xy = X.join(y).dropna()\n",
    "Xy = Xy.replace([np.inf, -np.inf], np.nan).dropna()\n",
    "y = Xy[y.name]\n",
    "X = Xy[X.columns]\n",
    "\n",
    "print(X.shape)\n",
    "print(y.shape)"
   ]
  },
  {
   "cell_type": "code",
   "execution_count": 72,
   "metadata": {},
   "outputs": [
    {
     "name": "stdout",
     "output_type": "stream",
     "text": [
      "R-Squared: 0.014090981260676982\n",
      "Coefficients: \n",
      "volume_change_ratio    0.000061\n",
      "5_day_momentum        -0.018844\n",
      "50_day_ema             0.220769\n",
      "200_day_ema            0.019722\n",
      "macd                   0.518030\n",
      "5_day_vol_change       0.001837\n",
      "intraday_move          0.016721\n",
      "z_score               -0.001328\n",
      "dtype: float64\n"
     ]
    }
   ],
   "source": [
    "# Run a linear regression using all of the indicators\n",
    "from sklearn.linear_model import LinearRegression\n",
    "\n",
    "model = LinearRegression()\n",
    "model.fit(X, y)\n",
    "\n",
    "# Compute the R-Squared and the model coefficients for each indicator\n",
    "print(f\"R-Squared: {model.score(X, y)}\")\n",
    "print(f\"Coefficients: \")\n",
    "print(pd.Series(model.coef_, index=X.columns))"
   ]
  },
  {
   "cell_type": "code",
   "execution_count": 73,
   "metadata": {},
   "outputs": [],
   "source": [
    "# Create a variable to hold the quarterly retrain dates\n",
    "retrain_dates = X.resample(\"Q\", level=\"Date\").mean().index.values[:-1]\n",
    "\n",
    "# Create the walk forward prediction model using the retrain dates \n",
    "models = pd.Series(index=retrain_dates)\n",
    "for date in retrain_dates:\n",
    "    X_train = X.xs(slice(None, date), level=\"Date\", drop_level=False)\n",
    "    y_train = y.xs(slice(None, date), level=\"Date\", drop_level=False)\n",
    "    model = LinearRegression()\n",
    "    model.fit(X_train, y_train)\n",
    "    models.loc[date] = model\n",
    "\n",
    "start_dates = models.index \n",
    "end_dates = models.index[1:].append(pd.to_datetime([\"2029-12-31\"]))\n",
    "\n",
    "predictions = pd.Series(index=indicators.index)\n",
    "\n",
    "# Get the predictions for the model each time it is retrained\n",
    "for i, model in enumerate(models):\n",
    "    X = indicators.xs(slice(start_dates[i], end_dates[i]), level=\"Date\", drop_level=False)\\\n",
    "              .replace([np.inf, -np.inf], np.nan).dropna()\n",
    "    prediction = pd.Series(model.predict(X), index=X.index)\n",
    "    predictions.loc[X.index] = prediction"
   ]
  },
  {
   "cell_type": "code",
   "execution_count": 74,
   "metadata": {},
   "outputs": [
    {
     "data": {
      "text/plain": [
       "<matplotlib.axes._subplots.AxesSubplot at 0x1a1eda9d68>"
      ]
     },
     "execution_count": 74,
     "metadata": {},
     "output_type": "execute_result"
    },
    {
     "data": {
      "image/png": "[encoded data removed]",
      "text/plain": [
       "<Figure size 720x576 with 1 Axes>"
      ]
     },
     "metadata": {
      "needs_background": "light"
     },
     "output_type": "display_data"
    }
   ],
   "source": [
    "# Create a function to graph a time series of the coefficient values for each of the technical indicators\n",
    "def extract_coefficients(models):\n",
    "    coefficients = pd.DataFrame()\n",
    "    for i, model in enumerate(models):\n",
    "        ## Grab the coefficients from the linear regression model\n",
    "        model_coefficients = pd.Series(model.coef_, index=[\"volume_change_ratio\", \"5_day_momentum\", \"50_day_ema\", \n",
    "                                                           \"200_day_ema\", \"macd\", \"5_day_vol_change\", \n",
    "                                                           \"intraday_move\", \"z_score\"])\n",
    "        model_coefficients.name = models.index[i]\n",
    "        coefficients = pd.concat([coefficients, model_coefficients], axis=1, sort=False)\n",
    "    return coefficients.T\n",
    "\n",
    "extract_coefficients(models).plot(title=\"Coefficients for Expanding Model\", figsize=(10, 8))"
   ]
  },
  {
   "cell_type": "code",
   "execution_count": 75,
   "metadata": {},
   "outputs": [
    {
     "name": "stdout",
     "output_type": "stream",
     "text": [
      "Explained variance   -0.038273\n",
      "MAE                   0.026076\n",
      "MSE                   0.001299\n",
      "R-Squared            -0.038560\n",
      "dtype: float64\n"
     ]
    }
   ],
   "source": [
    "import sklearn.metrics as metrics\n",
    "\n",
    "# Get the same number of values for the y_pred and y_actual variables by dropping the NaN values\n",
    "common_idx = y.dropna().index.intersection(predictions.dropna().index)\n",
    "y_actual = y[common_idx]\n",
    "y_actual.name = \"y_actual\"\n",
    "y_pred = predictions[common_idx]\n",
    "y_pred.name = \"y_pred\"\n",
    "\n",
    "# Compute the statistical metrics for our model\n",
    "standard_metrics = pd.Series()\n",
    "\n",
    "standard_metrics.loc[\"Explained variance\"] = metrics.explained_variance_score(y_actual, y_pred)\n",
    "standard_metrics.loc[\"MAE\"] = metrics.mean_absolute_error(y_actual, y_pred)\n",
    "standard_metrics.loc[\"MSE\"] = metrics.mean_squared_error(y_actual, y_pred)\n",
    "standard_metrics.loc[\"R-Squared\"] = metrics.r2_score(y_actual, y_pred)\n",
    "\n",
    "print(standard_metrics)"
   ]
  },
  {
   "cell_type": "code",
   "execution_count": 76,
   "metadata": {},
   "outputs": [
    {
     "name": "stdout",
     "output_type": "stream",
     "text": [
      "                     y_pred  y_actual  sign_pred  sign_actual  correct  \\\n",
      "Date       Symbol                                                        \n",
      "2019-10-31 AAPL    0.003101 -0.043999        1.0         -1.0        0   \n",
      "           AMZN   -0.006910 -0.006453       -1.0         -1.0        1   \n",
      "           FB      0.001026  0.006459        1.0          1.0        1   \n",
      "           GOOGL  -0.004511 -0.036834       -1.0         -1.0        1   \n",
      "           MSFT   -0.003785 -0.006169       -1.0         -1.0        1   \n",
      "2019-11-01 AAPL    0.007482 -0.019550        1.0         -1.0        0   \n",
      "           AMZN   -0.006633  0.003113       -1.0          1.0        0   \n",
      "           FB      0.000514  0.014567        1.0          1.0        1   \n",
      "           GOOGL  -0.003706 -0.028075       -1.0         -1.0        1   \n",
      "           MSFT   -0.002606 -0.015347       -1.0         -1.0        1   \n",
      "\n",
      "                   incorrect  prediction    result  \n",
      "Date       Symbol                                   \n",
      "2019-10-31 AAPL            1           1 -0.043999  \n",
      "           AMZN            0           1  0.006453  \n",
      "           FB              0           1  0.006459  \n",
      "           GOOGL           0           1  0.036834  \n",
      "           MSFT            0           1  0.006169  \n",
      "2019-11-01 AAPL            1           1 -0.019550  \n",
      "           AMZN            1           1 -0.003113  \n",
      "           FB              0           1  0.014567  \n",
      "           GOOGL           0           1  0.028075  \n",
      "           MSFT            0           1  0.015347  \n"
     ]
    }
   ],
   "source": [
    "# Create a function to create a DataFrame with our y_pred and y_actual values as well as add columns to show whether\n",
    "# the y_pred value was accurate in predicting the y_actual value and what the resulting return would be based on the\n",
    "# prediction\n",
    "def create_df(y_pred, y_actual):\n",
    "    y_pred.name = \"y_pred\"\n",
    "    y_actual.name = \"y_actual\"\n",
    "    df = pd.concat([y_pred, y_actual], axis=1, sort=\"index\")\n",
    "    \n",
    "    df[\"sign_pred\"] = df.y_pred.apply(np.sign)\n",
    "    df[\"sign_actual\"] = df.y_actual.apply(np.sign)\n",
    "    df[\"correct\"] = 0\n",
    "    df.loc[df.sign_pred * df.sign_actual > 0, \"correct\"] = 1\n",
    "    df[\"incorrect\"] = 0\n",
    "    df.loc[df.sign_pred * df.sign_actual < 0, \"incorrect\"] = 1\n",
    "    df[\"prediction\"] = df.correct + df.incorrect\n",
    "    df[\"result\"] = df.sign_pred * df.y_actual\n",
    "    return df\n",
    "\n",
    "# A \"1\" in the \"correct\" column signifies a correct prediction of stock price direction for that ticker on that date\n",
    "training_df = create_df(y_pred, y_actual)\n",
    "print(training_df.tail(10))"
   ]
  },
  {
   "cell_type": "code",
   "execution_count": 77,
   "metadata": {},
   "outputs": [
    {
     "name": "stdout",
     "output_type": "stream",
     "text": [
      "accuracy                    55.848949\n",
      "expected_weekly_return_%     0.318370\n",
      "noise                        0.005728\n",
      "prediction_calibration       0.223898\n",
      "%_return_long               -0.150167\n",
      "%_return_short               0.461194\n",
      "dtype: float64\n"
     ]
    }
   ],
   "source": [
    "# Create a function to calculate some custom metrics for our model\n",
    "def analysis_metrics(df):\n",
    "    analysis = pd.Series()\n",
    "    \n",
    "    ## accuracy measures the $ of correct predictions\n",
    "    ## expected_weekly_return_% measures the average weekly return as a % if each stock was equally invested\n",
    "    ## noise estimates how dramatic the predictions vary day to day (extremely small is better)  \n",
    "    ## prediction_calibration is a ratio that measures the average magnitude of the y_pred values vs. the y_actual\n",
    "    ## values and indicates how well the model reflects the size of the actual stock movements (close to 1.0 is ideal)\n",
    "    analysis.loc[\"accuracy\"] = (df.correct.sum()*1 / df.prediction.sum()*1) * 100\n",
    "    analysis.loc[\"expected_weekly_return_%\"] = df.result.mean() * 100 \n",
    "    analysis.loc[\"noise\"] = df.y_pred.diff().abs().mean()\n",
    "    analysis.loc[\"prediction_calibration\"] = df.y_pred.abs().mean() / df.y_actual.abs().mean()\n",
    "    analysis.loc[\"%_return_long\"] = df[df.sign_pred == 1].result.mean() * 100\n",
    "    analysis.loc[\"%_return_short\"] = df[df.sign_pred == -1].result.mean() * 100\n",
    "    return analysis\n",
    "\n",
    "analysis = analysis_metrics(training_df)\n",
    "print(analysis)"
   ]
  },
  {
   "cell_type": "code",
   "execution_count": 78,
   "metadata": {},
   "outputs": [
    {
     "name": "stdout",
     "output_type": "stream",
     "text": [
      "Year                           2014       2015       2016       2017  \\\n",
      "accuracy                  47.857889  55.361398  53.534551  62.200957   \n",
      "expected_weekly_return_%  -0.066899   0.414798   0.242058   0.636872   \n",
      "noise                      0.015206   0.006277   0.003817   0.002581   \n",
      "prediction_calibration     0.433791   0.169218   0.222994   0.196859   \n",
      "%_return_long             -0.360057  -0.118103  -0.119740  -0.393379   \n",
      "%_return_short             0.138935   0.764229   0.301577   0.790655   \n",
      "\n",
      "Year                           2018       2019  \n",
      "accuracy                  54.980080  59.905660  \n",
      "expected_weekly_return_%   0.003059   0.639602  \n",
      "noise                      0.005029   0.003311  \n",
      "prediction_calibration     0.193692   0.169174  \n",
      "%_return_long              0.334382  -0.159587  \n",
      "%_return_short            -0.064669   0.823174  \n"
     ]
    }
   ],
   "source": [
    "# Create a function to show the custom analysis metrics from the analysis_metrics function by year\n",
    "def results_by_year(df):\n",
    "    df[\"Year\"] = df.index.get_level_values(\"Date\").year\n",
    "    return df.groupby(\"Year\").apply(analysis_metrics).T\n",
    "\n",
    "yearly_results = results_by_year(training_df)\n",
    "print(yearly_results)"
   ]
  },
  {
   "cell_type": "code",
   "execution_count": 79,
   "metadata": {},
   "outputs": [
    {
     "name": "stdout",
     "output_type": "stream",
     "text": [
      "Month                           Jan        Feb        Mar        Apr  \\\n",
      "accuracy                  57.425743  59.375000  59.454545  62.258065   \n",
      "expected_weekly_return_%   0.264588   0.519870   0.389399   0.658471   \n",
      "noise                      0.005448   0.006146   0.005120   0.006294   \n",
      "prediction_calibration     0.179169   0.230308   0.191551   0.184839   \n",
      "%_return_long             -1.617756  -0.707247   0.433709  -0.001641   \n",
      "%_return_short             0.667301   0.897702   0.372168   0.907847   \n",
      "\n",
      "Month                           May       June       July        Aug  \\\n",
      "accuracy                  54.375000  49.373041  60.787402  53.313253   \n",
      "expected_weekly_return_%   0.198023   0.076875   1.004606   0.190968   \n",
      "noise                      0.008112   0.010949   0.004803   0.004760   \n",
      "prediction_calibration     0.326353   0.442225   0.128586   0.234844   \n",
      "%_return_long             -0.585403  -0.403326   0.055384   0.011810   \n",
      "%_return_short             0.470160   0.225158   1.374325   0.252985   \n",
      "\n",
      "Month                          Sept        Oct        Nov        Dec  \n",
      "accuracy                  54.111842  56.203288  49.514563  54.423077  \n",
      "expected_weekly_return_%   0.230819   0.218777  -0.011515   0.031973  \n",
      "noise                      0.004582   0.003734   0.004208   0.004043  \n",
      "prediction_calibration     0.247816   0.175887   0.232437   0.210089  \n",
      "%_return_long              0.205432  -1.282550   0.446518   1.416995  \n",
      "%_return_short             0.237762   0.529863  -0.158321  -0.238663  \n"
     ]
    }
   ],
   "source": [
    "# Create a function to show the custom analysis metrics from the analysis_metrics function by month\n",
    "def results_by_month(df):\n",
    "    df[\"Month\"] = df.index.get_level_values(\"Date\").month\n",
    "    return df.groupby(\"Month\").apply(analysis_metrics).T\n",
    "\n",
    "average_monthly_results = results_by_month(training_df)\n",
    "average_monthly_results = average_monthly_results.rename(columns={1: \"Jan\",\n",
    "                                                                  2: \"Feb\",\n",
    "                                                                  3: \"Mar\",\n",
    "                                                                  4: \"Apr\",\n",
    "                                                                  5: \"May\",\n",
    "                                                                  6: \"June\",\n",
    "                                                                  7: \"July\",\n",
    "                                                                  8: \"Aug\",\n",
    "                                                                  9: \"Sept\",\n",
    "                                                                  10: \"Oct\",\n",
    "                                                                  11: \"Nov\",\n",
    "                                                                  12: \"Dec\"})\n",
    "print(average_monthly_results)"
   ]
  },
  {
   "cell_type": "code",
   "execution_count": 80,
   "metadata": {},
   "outputs": [
    {
     "name": "stdout",
     "output_type": "stream",
     "text": [
      "Symbol                         AAPL       AMZN         FB      GOOGL  \\\n",
      "accuracy                  53.371185  52.765957  56.635912  58.085106   \n",
      "expected_weekly_return_%   0.099286   0.213819   0.394995   0.437358   \n",
      "noise                      0.002641   0.003106   0.002736   0.002220   \n",
      "prediction_calibration     0.223448   0.227346   0.209321   0.223240   \n",
      "%_return_long             -0.535103  -0.390036   0.176132   0.641565   \n",
      "%_return_short             0.354050   0.585261   0.439665   0.401020   \n",
      "\n",
      "Symbol                         MSFT  \n",
      "accuracy                  58.392603  \n",
      "expected_weekly_return_%   0.446391  \n",
      "noise                      0.002468  \n",
      "prediction_calibration     0.239161  \n",
      "%_return_long             -0.001747  \n",
      "%_return_short             0.544857  \n"
     ]
    }
   ],
   "source": [
    "# Create a function to show the custom analysis metrics from the analysis_metrics function by symbol\n",
    "def results_by_symbol(df):\n",
    "    #df[\"Sym\"] = df.index.get_level_values(\"Date\").year\n",
    "    return df.groupby(\"Symbol\").apply(analysis_metrics).T\n",
    "\n",
    "symbol_results = results_by_symbol(training_df)\n",
    "print(symbol_results)"
   ]
  },
  {
   "cell_type": "code",
   "execution_count": 81,
   "metadata": {},
   "outputs": [
    {
     "name": "stdout",
     "output_type": "stream",
     "text": [
      "                          model1_train  model1_test\n",
      "accuracy                     57.632192    57.165992\n",
      "expected_weekly_return_%      0.435709     0.434622\n",
      "noise                         0.003601     0.003791\n",
      "prediction_calibration        0.186058     0.191103\n",
      "%_return_long                 0.188883     0.106341\n",
      "%_return_short                0.480749     0.506961\n"
     ]
    }
   ],
   "source": [
    "from sklearn.model_selection import train_test_split\n",
    "from sklearn.linear_model import ElasticNetCV, Lasso, Ridge\n",
    "\n",
    "# Use test_size=1260 to make roughly the last 12 months of data as the test data\n",
    "X_train, X_test, y_train, y_test = train_test_split(indicators, outcomes.day_5, test_size=1260, shuffle=False)\n",
    "\n",
    "# Get rid of any NaN or infinity values\n",
    "Xy_train = X_train.join(y_train).dropna()\n",
    "Xy_train = Xy_train.replace([np.inf, -np.inf], np.nan).dropna()\n",
    "X_train_adjust = Xy_train[X_train.columns]\n",
    "y_train_adjust = Xy_train[y_train.name]\n",
    "\n",
    "Xy_test = X_test.join(y_test).dropna()\n",
    "Xy_test = Xy_test.replace([np.inf, -np.inf], np.nan).dropna()\n",
    "X_test_adjust = Xy_test[X_test.columns]\n",
    "y_test_adjust = Xy_test[y_test.name]\n",
    "\n",
    "# Linear Regression model\n",
    "model1 = LinearRegression().fit(X_train_adjust, y_train_adjust)\n",
    "model1_train = pd.Series(model1.predict(X_train_adjust), index=X_train_adjust.index)\n",
    "model1_test = pd.Series(model1.predict(X_test_adjust), index=X_test_adjust.index)\n",
    "\n",
    "# Create a DataFrame of each model that contains the analysis metrics\n",
    "model1_train_df = create_df(model1_train, y_train_adjust)\n",
    "model1_test_df = create_df(model1_test, y_test_adjust)\n",
    "\n",
    "results1 = analysis_metrics(model1_train_df)\n",
    "results1.name = \"model1_train\"\n",
    "results2 = analysis_metrics(model1_test_df)\n",
    "results2.name = \"model1_test\"\n",
    "\n",
    "print(pd.concat([results1, results2], axis=1))"
   ]
  },
  {
   "cell_type": "code",
   "execution_count": 83,
   "metadata": {},
   "outputs": [],
   "source": [
    "# Create a function to output the models and predictions from our walk forward model\n",
    "def create_prediction_model(X, y, algo=LinearRegression()):\n",
    "    return models, predictions\n",
    "\n",
    "linear_models, linear_predictions = create_prediction_model(X, y, algo=LinearRegression())"
   ]
  },
  {
   "cell_type": "code",
   "execution_count": 84,
   "metadata": {},
   "outputs": [
    {
     "name": "stdout",
     "output_type": "stream",
     "text": [
      "Models:\n",
      "2018-09-30    LinearRegression(copy_X=True, fit_intercept=Tr...\n",
      "2018-12-31    LinearRegression(copy_X=True, fit_intercept=Tr...\n",
      "2019-03-31    LinearRegression(copy_X=True, fit_intercept=Tr...\n",
      "2019-06-30    LinearRegression(copy_X=True, fit_intercept=Tr...\n",
      "2019-09-30    LinearRegression(copy_X=True, fit_intercept=Tr...\n",
      "dtype: object\n"
     ]
    }
   ],
   "source": [
    "# The model retrains on a quarterly basis\n",
    "print(\"Models:\")\n",
    "print(linear_models.tail())"
   ]
  },
  {
   "cell_type": "code",
   "execution_count": 85,
   "metadata": {},
   "outputs": [
    {
     "name": "stdout",
     "output_type": "stream",
     "text": [
      "Predictions:\n",
      "Date        Symbol\n",
      "2019-11-01  AAPL       0.0074820\n",
      "            AMZN      -0.0066327\n",
      "            FB         0.0005136\n",
      "            GOOGL     -0.0037060\n",
      "            MSFT      -0.0026063\n",
      "2019-11-04  AAPL       0.0047306\n",
      "            AMZN      -0.0049385\n",
      "            FB        -0.0023184\n",
      "            GOOGL     -0.0027229\n",
      "            MSFT      -0.0031845\n",
      "2019-11-05  AAPL       0.0013575\n",
      "            AMZN      -0.0059196\n",
      "            FB        -0.0046523\n",
      "            GOOGL     -0.0039455\n",
      "            MSFT      -0.0033830\n",
      "2019-11-06  AAPL       0.0003106\n",
      "            AMZN      -0.0065993\n",
      "            FB        -0.0084208\n",
      "            GOOGL     -0.0040088\n",
      "            MSFT      -0.0040056\n",
      "2019-11-07  AAPL       0.0018781\n",
      "            AMZN      -0.0072875\n",
      "            FB        -0.0089431\n",
      "            GOOGL     -0.0015568\n",
      "            MSFT      -0.0044406\n",
      "2019-11-08  AAPL       0.0013677\n",
      "            AMZN      -0.0075076\n",
      "            FB        -0.0075884\n",
      "            GOOGL     -0.0027318\n",
      "            MSFT      -0.0029964\n",
      "dtype: object\n"
     ]
    }
   ],
   "source": [
    "# The predictions are forecasting the directional price movement on a forward rolling 5 day period\n",
    "# Ex: The prediction on \"2019-11-08\" is predicting the directional price movement from the closing price on \n",
    "# \"2019-11-08\" to the closing price on \"2019-11-15\"\n",
    "print(\"Predictions:\")\n",
    "print(linear_predictions.apply(lambda x: '%.7f' % x).dropna().tail(30))"
   ]
  },
  {
   "cell_type": "code",
   "execution_count": 86,
   "metadata": {},
   "outputs": [
    {
     "data": {
      "text/plain": [
       "Explained variance          -0.038273\n",
       "MAE                          0.026076\n",
       "R-Squared                   -0.038560\n",
       "accuracy                    55.848949\n",
       "expected_weekly_return_%     0.318370\n",
       "noise                        0.005728\n",
       "prediction_calibration       0.223898\n",
       "%_return_long               -0.150167\n",
       "%_return_short               0.461194\n",
       "dtype: float64"
      ]
     },
     "execution_count": 86,
     "metadata": {},
     "output_type": "execute_result"
    }
   ],
   "source": [
    "# Combine our \"create_df\" function and \"analysis_metrics\" function into one function\n",
    "def prediction_metrics(y_pred, y_actual):\n",
    "\n",
    "    def create_df(y_pred, y_actual):\n",
    "        y_pred.name = \"y_pred\"\n",
    "        y_actual.name = \"y_actual\"\n",
    "        df = pd.concat([y_pred, y_actual], axis=1, sort=\"index\").dropna()\n",
    "\n",
    "        df[\"sign_pred\"] = df.y_pred.apply(np.sign)\n",
    "        df[\"sign_actual\"] = df.y_actual.apply(np.sign)\n",
    "        df[\"correct\"] = 0\n",
    "        df.loc[df.sign_pred * df.sign_actual > 0, \"correct\"] = 1\n",
    "        df[\"incorrect\"] = 0\n",
    "        df.loc[df.sign_pred * df.sign_actual < 0, \"incorrect\"] = 1\n",
    "        df[\"prediction\"] = df.correct + df.incorrect\n",
    "        df[\"result\"] = df.sign_pred * df.y_actual\n",
    "        return df\n",
    "    \n",
    "    df = create_df(y_pred, y_actual)\n",
    "    \n",
    "    analysis = pd.Series()\n",
    "\n",
    "    analysis.loc[\"Explained variance\"] = metrics.explained_variance_score(df.y_actual, df.y_pred)\n",
    "    analysis.loc[\"MAE\"] = metrics.mean_absolute_error(df.y_actual, df.y_pred)\n",
    "    analysis.loc[\"R-Squared\"] = metrics.r2_score(df.y_actual, df.y_pred)\n",
    "    analysis.loc[\"accuracy\"] = (df.correct.sum()*1 / df.prediction.sum()*1) * 100\n",
    "    analysis.loc[\"expected_weekly_return_%\"] = df.result.mean() * 100 \n",
    "    analysis.loc[\"noise\"] = df.y_pred.diff().abs().mean()\n",
    "    analysis.loc[\"prediction_calibration\"] = df.y_pred.abs().mean() / df.y_actual.abs().mean()\n",
    "    analysis.loc[\"%_return_long\"] = df[df.sign_pred == 1].result.mean() * 100\n",
    "    analysis.loc[\"%_return_short\"] = df[df.sign_pred == -1].result.mean() * 100\n",
    "\n",
    "    return analysis\n",
    "\n",
    "prediction_metrics(y_pred=linear_predictions, y_actual=y)"
   ]
  },
  {
   "cell_type": "code",
   "execution_count": 87,
   "metadata": {},
   "outputs": [
    {
     "name": "stdout",
     "output_type": "stream",
     "text": [
      "Date                      2019-03-31  2019-06-30  2019-09-30  2019-12-31\n",
      "Explained variance          0.070179   -0.009750    0.029422    0.009840\n",
      "MAE                         0.023983    0.028444    0.022068    0.018782\n",
      "R-Squared                  -0.078575   -0.011649   -0.004069   -0.406827\n",
      "accuracy                   66.885246   56.190476   52.812500   70.833333\n",
      "expected_weekly_return_%    1.356354    0.224281    0.143256    1.231663\n",
      "noise                       0.003714    0.003280    0.002931    0.003407\n",
      "prediction_calibration      0.163627    0.132822    0.209444    0.203370\n",
      "%_return_long              -0.307786   -0.285629    1.562241   -1.228160\n",
      "%_return_short              1.824830    0.421955    0.028203    1.694402\n"
     ]
    }
   ],
   "source": [
    "# Show a breakdown of the analysis metrics for the last 4 quarters of predictions\n",
    "def metrics_by_quarter(y_pred, y_actual):\n",
    "    df = pd.concat([y_pred, y_actual], axis=1).dropna().reset_index().set_index(\"Date\")\n",
    "    quarterly_analysis = df.resample(\"Q\").apply(lambda df: prediction_metrics(df[y_pred.name], df[y_actual.name]))\n",
    "    return quarterly_analysis\n",
    "\n",
    "quarterly_metrics = metrics_by_quarter(y_pred=linear_predictions, y_actual=y)\n",
    "print(quarterly_metrics.tail(4).T)"
   ]
  },
  {
   "cell_type": "code",
   "execution_count": 88,
   "metadata": {},
   "outputs": [
    {
     "data": {
      "text/plain": [
       "<matplotlib.axes._subplots.AxesSubplot at 0x1a1ed87f28>"
      ]
     },
     "execution_count": 88,
     "metadata": {},
     "output_type": "execute_result"
    },
    {
     "data": {
      "image/png": "[encoded data removed]",
      "text/plain": [
       "<Figure size 432x288 with 1 Axes>"
      ]
     },
     "metadata": {
      "needs_background": "light"
     },
     "output_type": "display_data"
    }
   ],
   "source": [
    "# Chart the accuracy over time on a quarterly basis\n",
    "quarterly_metrics[\"accuracy\"].plot(title=\"Accuracy % by Quarter\")"
   ]
  },
  {
   "cell_type": "code",
   "execution_count": 90,
   "metadata": {},
   "outputs": [
    {
     "data": {
      "text/plain": [
       "<matplotlib.axes._subplots.AxesSubplot at 0x1a1f046f60>"
      ]
     },
     "execution_count": 90,
     "metadata": {},
     "output_type": "execute_result"
    },
    {
     "data": {
      "image/png": "[encoded data removed]",
      "text/plain": [
       "<Figure size 432x288 with 1 Axes>"
      ]
     },
     "metadata": {
      "needs_background": "light"
     },
     "output_type": "display_data"
    }
   ],
   "source": [
    "# Chart the expected_weekly_return_% over time on a quarterly basis\n",
    "quarterly_metrics[\"expected_weekly_return_%\"].plot(title=\"Average Expected Weekly Return % by Quarter\")"
   ]
  }
 ],
 "metadata": {
  "kernelspec": {
   "display_name": "Python 3",
   "language": "python",
   "name": "python3"
  },
  "language_info": {
   "codemirror_mode": {
    "name": "ipython",
    "version": 3
   },
   "file_extension": ".py",
   "mimetype": "text/x-python",
   "name": "python",
   "nbconvert_exporter": "python",
   "pygments_lexer": "ipython3",
   "version": "3.6.8"
  }
 },
 "nbformat": 4,
 "nbformat_minor": 2
}
